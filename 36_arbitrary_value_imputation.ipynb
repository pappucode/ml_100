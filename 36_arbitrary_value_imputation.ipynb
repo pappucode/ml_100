{
 "cells": [
  {
   "cell_type": "code",
   "execution_count": 15,
   "id": "6f922963-a95a-4679-9fb9-5f3405dd80de",
   "metadata": {},
   "outputs": [],
   "source": [
    "import pandas as pd\n",
    "import numpy as np\n",
    "import matplotlib.pyplot as plt"
   ]
  },
  {
   "cell_type": "code",
   "execution_count": 16,
   "id": "9037a123-06c5-4bb4-a159-2b736e9b3593",
   "metadata": {},
   "outputs": [],
   "source": [
    "from sklearn.model_selection import train_test_split\n",
    "from sklearn.impute import SimpleImputer\n",
    "from sklearn.compose import ColumnTransformer"
   ]
  },
  {
   "cell_type": "code",
   "execution_count": 17,
   "id": "8d451af2-3b5a-4a0a-aabc-78f01cc6c11b",
   "metadata": {},
   "outputs": [],
   "source": [
    "df = pd.read_csv('datasets/titanic_toy.csv')"
   ]
  },
  {
   "cell_type": "code",
   "execution_count": 18,
   "id": "111da047-f55c-446e-af6a-3c317562a2b9",
   "metadata": {},
   "outputs": [
    {
     "data": {
      "text/html": [
       "<div>\n",
       "<style scoped>\n",
       "    .dataframe tbody tr th:only-of-type {\n",
       "        vertical-align: middle;\n",
       "    }\n",
       "\n",
       "    .dataframe tbody tr th {\n",
       "        vertical-align: top;\n",
       "    }\n",
       "\n",
       "    .dataframe thead th {\n",
       "        text-align: right;\n",
       "    }\n",
       "</style>\n",
       "<table border=\"1\" class=\"dataframe\">\n",
       "  <thead>\n",
       "    <tr style=\"text-align: right;\">\n",
       "      <th></th>\n",
       "      <th>Age</th>\n",
       "      <th>Fare</th>\n",
       "      <th>Family</th>\n",
       "      <th>Survived</th>\n",
       "    </tr>\n",
       "  </thead>\n",
       "  <tbody>\n",
       "    <tr>\n",
       "      <th>0</th>\n",
       "      <td>22.0</td>\n",
       "      <td>7.2500</td>\n",
       "      <td>1</td>\n",
       "      <td>0</td>\n",
       "    </tr>\n",
       "    <tr>\n",
       "      <th>1</th>\n",
       "      <td>38.0</td>\n",
       "      <td>71.2833</td>\n",
       "      <td>1</td>\n",
       "      <td>1</td>\n",
       "    </tr>\n",
       "    <tr>\n",
       "      <th>2</th>\n",
       "      <td>26.0</td>\n",
       "      <td>7.9250</td>\n",
       "      <td>0</td>\n",
       "      <td>1</td>\n",
       "    </tr>\n",
       "    <tr>\n",
       "      <th>3</th>\n",
       "      <td>35.0</td>\n",
       "      <td>53.1000</td>\n",
       "      <td>1</td>\n",
       "      <td>1</td>\n",
       "    </tr>\n",
       "    <tr>\n",
       "      <th>4</th>\n",
       "      <td>35.0</td>\n",
       "      <td>8.0500</td>\n",
       "      <td>0</td>\n",
       "      <td>0</td>\n",
       "    </tr>\n",
       "  </tbody>\n",
       "</table>\n",
       "</div>"
      ],
      "text/plain": [
       "    Age     Fare  Family  Survived\n",
       "0  22.0   7.2500       1         0\n",
       "1  38.0  71.2833       1         1\n",
       "2  26.0   7.9250       0         1\n",
       "3  35.0  53.1000       1         1\n",
       "4  35.0   8.0500       0         0"
      ]
     },
     "execution_count": 18,
     "metadata": {},
     "output_type": "execute_result"
    }
   ],
   "source": [
    "df.head()"
   ]
  },
  {
   "cell_type": "code",
   "execution_count": 19,
   "id": "67d02bb8-2680-465f-a287-921455b4b325",
   "metadata": {},
   "outputs": [
    {
     "data": {
      "text/plain": [
       "Age         0.198653\n",
       "Fare        0.050505\n",
       "Family      0.000000\n",
       "Survived    0.000000\n",
       "dtype: float64"
      ]
     },
     "execution_count": 19,
     "metadata": {},
     "output_type": "execute_result"
    }
   ],
   "source": [
    "df.isnull().mean()"
   ]
  },
  {
   "cell_type": "code",
   "execution_count": 20,
   "id": "93713355-30dd-4147-b796-7b35fd44862a",
   "metadata": {},
   "outputs": [],
   "source": [
    "X = df.drop(columns=['Survived'])\n",
    "y = df['Survived']"
   ]
  },
  {
   "cell_type": "code",
   "execution_count": 21,
   "id": "37a5236a-30e7-4693-b462-710ce5d77227",
   "metadata": {},
   "outputs": [],
   "source": [
    "X_train,X_test,y_train,y_test = train_test_split(X,y,test_size=0.2,random_state=2)"
   ]
  },
  {
   "cell_type": "code",
   "execution_count": 22,
   "id": "97a16fd8-0e15-4479-81a2-c37d1ade2917",
   "metadata": {},
   "outputs": [],
   "source": [
    "X_train['Age_99'] = X_train['Age'].fillna(99)\n",
    "X_train['Age_minus1'] = X_train['Age'].fillna(-1)\n",
    "\n",
    "X_train['Fare_999'] = X_train['Fare'].fillna(999)\n",
    "X_train['Fare_minus1'] = X_train['Fare'].fillna(-1)"
   ]
  },
  {
   "cell_type": "code",
   "execution_count": 23,
   "id": "d62fe1b4-92fb-42d6-9b78-0fd6808c509f",
   "metadata": {},
   "outputs": [
    {
     "name": "stdout",
     "output_type": "stream",
     "text": [
      "Original Age variable variance:  204.34951339046142\n",
      "Age Variance after 99 wala imputation:  951.7275570187188\n",
      "Age Variance after -1 wala imputation:  318.0896202624488\n",
      "Original Fare variable variance:  2448.1979137063163\n",
      "Fare Variance after 999 wala imputation:  47219.202652176304\n",
      "Fare Variance after -1 wala imputation:  2378.5676784883494\n"
     ]
    }
   ],
   "source": [
    "print('Original Age variable variance: ', X_train['Age'].var())\n",
    "print('Age Variance after 99 wala imputation: ', X_train['Age_99'].var())\n",
    "print('Age Variance after -1 wala imputation: ', X_train['Age_minus1'].var())\n",
    "\n",
    "print('Original Fare variable variance: ', X_train['Fare'].var())\n",
    "print('Fare Variance after 999 wala imputation: ', X_train['Fare_999'].var())\n",
    "print('Fare Variance after -1 wala imputation: ', X_train['Fare_minus1'].var())"
   ]
  },
  {
   "cell_type": "code",
   "execution_count": 24,
   "id": "af7c9d85-e8a2-4586-a4e1-88f389a1c0c2",
   "metadata": {},
   "outputs": [
    {
     "data": {
      "image/png": "[encoded data removed]",
      "text/plain": [
       "<Figure size 700x400 with 1 Axes>"
      ]
     },
     "metadata": {},
     "output_type": "display_data"
    }
   ],
   "source": [
    "fig, ax = plt.subplots(figsize=(7,4))\n",
    "\n",
    "# Plot KDE for original variable \n",
    "X_train['Age'].plot(kind='kde', ax=ax, label=\"Original Age\", linestyle=\"--\", linewidth=2)\n",
    "\n",
    "# Plot KDE for variable imputed with the median\n",
    "X_train['Age_99'].plot(kind='kde', ax=ax, color='red', label=\"Age (Age_99 Imputed)\", linestyle=\"-\", linewidth=2)\n",
    "\n",
    "# Plot KDE for variable imputed with the mean\n",
    "X_train['Age_minus1'].plot(kind='kde', ax=ax, color='green', label=\"Age (Age_minus1 Imputed)\", linestyle=\"-.\", linewidth=2)\n",
    "\n",
    "# Add labels and title\n",
    "ax.set_xlabel(\"Age\")\n",
    "ax.set_ylabel(\"Density\")\n",
    "ax.set_title(\"Age Distribution Before and After Imputation\")\n",
    "\n",
    "# Add legend\n",
    "ax.legend()\n",
    "\n",
    "# Show plot\n",
    "plt.show()"
   ]
  },
  {
   "cell_type": "code",
   "execution_count": 25,
   "id": "af260019-330e-43c6-a751-ff4d4299864e",
   "metadata": {},
   "outputs": [
    {
     "data": {
      "image/png": "[encoded data removed]",
      "text/plain": [
       "<Figure size 700x400 with 1 Axes>"
      ]
     },
     "metadata": {},
     "output_type": "display_data"
    }
   ],
   "source": [
    "fig, ax = plt.subplots(figsize=(7,4))\n",
    "\n",
    "# Plot KDE for original variable \n",
    "X_train['Fare'].plot(kind='kde', ax=ax, label=\"Original Fare\", linestyle=\"--\", linewidth=2)\n",
    "\n",
    "# Plot KDE for variable imputed with the median\n",
    "X_train['Fare_999'].plot(kind='kde', ax=ax, color='red', label=\"Fare (Fare_999 Imputed)\", linestyle=\"-\", linewidth=2)\n",
    "\n",
    "# Plot KDE for variable imputed with the mean\n",
    "X_train['Fare_minus1'].plot(kind='kde', ax=ax, color='green', label=\"Fare (Fare_minus1 Imputed)\", linestyle=\"-.\", linewidth=2)\n",
    "\n",
    "# Add labels and title\n",
    "ax.set_xlabel(\"Fare\")\n",
    "ax.set_ylabel(\"Density\")\n",
    "ax.set_title(\"Fare Distribution Before and After Imputation\")\n",
    "\n",
    "# Add legend\n",
    "ax.legend()\n",
    "\n",
    "# Show plot\n",
    "plt.show()"
   ]
  },
  {
   "cell_type": "code",
   "execution_count": 26,
   "id": "b94e6a1b-bce5-4922-9153-60314d717321",
   "metadata": {},
   "outputs": [
    {
     "data": {
      "text/html": [
       "<div>\n",
       "<style scoped>\n",
       "    .dataframe tbody tr th:only-of-type {\n",
       "        vertical-align: middle;\n",
       "    }\n",
       "\n",
       "    .dataframe tbody tr th {\n",
       "        vertical-align: top;\n",
       "    }\n",
       "\n",
       "    .dataframe thead th {\n",
       "        text-align: right;\n",
       "    }\n",
       "</style>\n",
       "<table border=\"1\" class=\"dataframe\">\n",
       "  <thead>\n",
       "    <tr style=\"text-align: right;\">\n",
       "      <th></th>\n",
       "      <th>Age</th>\n",
       "      <th>Fare</th>\n",
       "      <th>Family</th>\n",
       "      <th>Age_99</th>\n",
       "      <th>Age_minus1</th>\n",
       "      <th>Fare_999</th>\n",
       "      <th>Fare_minus1</th>\n",
       "    </tr>\n",
       "  </thead>\n",
       "  <tbody>\n",
       "    <tr>\n",
       "      <th>Age</th>\n",
       "      <td>204.349513</td>\n",
       "      <td>70.719262</td>\n",
       "      <td>-6.498901</td>\n",
       "      <td>204.349513</td>\n",
       "      <td>204.349513</td>\n",
       "      <td>162.793430</td>\n",
       "      <td>63.321188</td>\n",
       "    </tr>\n",
       "    <tr>\n",
       "      <th>Fare</th>\n",
       "      <td>70.719262</td>\n",
       "      <td>2448.197914</td>\n",
       "      <td>17.258917</td>\n",
       "      <td>-101.671097</td>\n",
       "      <td>125.558364</td>\n",
       "      <td>2448.197914</td>\n",
       "      <td>2448.197914</td>\n",
       "    </tr>\n",
       "    <tr>\n",
       "      <th>Family</th>\n",
       "      <td>-6.498901</td>\n",
       "      <td>17.258917</td>\n",
       "      <td>2.735252</td>\n",
       "      <td>-7.387287</td>\n",
       "      <td>-4.149246</td>\n",
       "      <td>11.528625</td>\n",
       "      <td>16.553989</td>\n",
       "    </tr>\n",
       "    <tr>\n",
       "      <th>Age_99</th>\n",
       "      <td>204.349513</td>\n",
       "      <td>-101.671097</td>\n",
       "      <td>-7.387287</td>\n",
       "      <td>951.727557</td>\n",
       "      <td>-189.535540</td>\n",
       "      <td>-159.931663</td>\n",
       "      <td>-94.317400</td>\n",
       "    </tr>\n",
       "    <tr>\n",
       "      <th>Age_minus1</th>\n",
       "      <td>204.349513</td>\n",
       "      <td>125.558364</td>\n",
       "      <td>-4.149246</td>\n",
       "      <td>-189.535540</td>\n",
       "      <td>318.089620</td>\n",
       "      <td>257.379887</td>\n",
       "      <td>114.394141</td>\n",
       "    </tr>\n",
       "    <tr>\n",
       "      <th>Fare_999</th>\n",
       "      <td>162.793430</td>\n",
       "      <td>2448.197914</td>\n",
       "      <td>11.528625</td>\n",
       "      <td>-159.931663</td>\n",
       "      <td>257.379887</td>\n",
       "      <td>47219.202652</td>\n",
       "      <td>762.474982</td>\n",
       "    </tr>\n",
       "    <tr>\n",
       "      <th>Fare_minus1</th>\n",
       "      <td>63.321188</td>\n",
       "      <td>2448.197914</td>\n",
       "      <td>16.553989</td>\n",
       "      <td>-94.317400</td>\n",
       "      <td>114.394141</td>\n",
       "      <td>762.474982</td>\n",
       "      <td>2378.567678</td>\n",
       "    </tr>\n",
       "  </tbody>\n",
       "</table>\n",
       "</div>"
      ],
      "text/plain": [
       "                    Age         Fare     Family      Age_99  Age_minus1  \\\n",
       "Age          204.349513    70.719262  -6.498901  204.349513  204.349513   \n",
       "Fare          70.719262  2448.197914  17.258917 -101.671097  125.558364   \n",
       "Family        -6.498901    17.258917   2.735252   -7.387287   -4.149246   \n",
       "Age_99       204.349513  -101.671097  -7.387287  951.727557 -189.535540   \n",
       "Age_minus1   204.349513   125.558364  -4.149246 -189.535540  318.089620   \n",
       "Fare_999     162.793430  2448.197914  11.528625 -159.931663  257.379887   \n",
       "Fare_minus1   63.321188  2448.197914  16.553989  -94.317400  114.394141   \n",
       "\n",
       "                 Fare_999  Fare_minus1  \n",
       "Age            162.793430    63.321188  \n",
       "Fare          2448.197914  2448.197914  \n",
       "Family          11.528625    16.553989  \n",
       "Age_99        -159.931663   -94.317400  \n",
       "Age_minus1     257.379887   114.394141  \n",
       "Fare_999     47219.202652   762.474982  \n",
       "Fare_minus1    762.474982  2378.567678  "
      ]
     },
     "execution_count": 26,
     "metadata": {},
     "output_type": "execute_result"
    }
   ],
   "source": [
    "X_train.cov()"
   ]
  },
  {
   "cell_type": "code",
   "execution_count": 27,
   "id": "3f440dc1-28f0-4f14-a7cd-699ae5c47d43",
   "metadata": {},
   "outputs": [
    {
     "data": {
      "text/html": [
       "<div>\n",
       "<style scoped>\n",
       "    .dataframe tbody tr th:only-of-type {\n",
       "        vertical-align: middle;\n",
       "    }\n",
       "\n",
       "    .dataframe tbody tr th {\n",
       "        vertical-align: top;\n",
       "    }\n",
       "\n",
       "    .dataframe thead th {\n",
       "        text-align: right;\n",
       "    }\n",
       "</style>\n",
       "<table border=\"1\" class=\"dataframe\">\n",
       "  <thead>\n",
       "    <tr style=\"text-align: right;\">\n",
       "      <th></th>\n",
       "      <th>Age</th>\n",
       "      <th>Fare</th>\n",
       "      <th>Family</th>\n",
       "      <th>Age_99</th>\n",
       "      <th>Age_minus1</th>\n",
       "      <th>Fare_999</th>\n",
       "      <th>Fare_minus1</th>\n",
       "    </tr>\n",
       "  </thead>\n",
       "  <tbody>\n",
       "    <tr>\n",
       "      <th>Age</th>\n",
       "      <td>1.000000</td>\n",
       "      <td>0.092644</td>\n",
       "      <td>-0.299113</td>\n",
       "      <td>1.000000</td>\n",
       "      <td>1.000000</td>\n",
       "      <td>0.051179</td>\n",
       "      <td>0.084585</td>\n",
       "    </tr>\n",
       "    <tr>\n",
       "      <th>Fare</th>\n",
       "      <td>0.092644</td>\n",
       "      <td>1.000000</td>\n",
       "      <td>0.208268</td>\n",
       "      <td>-0.066273</td>\n",
       "      <td>0.142022</td>\n",
       "      <td>1.000000</td>\n",
       "      <td>1.000000</td>\n",
       "    </tr>\n",
       "    <tr>\n",
       "      <th>Family</th>\n",
       "      <td>-0.299113</td>\n",
       "      <td>0.208268</td>\n",
       "      <td>1.000000</td>\n",
       "      <td>-0.144787</td>\n",
       "      <td>-0.140668</td>\n",
       "      <td>0.032079</td>\n",
       "      <td>0.205233</td>\n",
       "    </tr>\n",
       "    <tr>\n",
       "      <th>Age_99</th>\n",
       "      <td>1.000000</td>\n",
       "      <td>-0.066273</td>\n",
       "      <td>-0.144787</td>\n",
       "      <td>1.000000</td>\n",
       "      <td>-0.344476</td>\n",
       "      <td>-0.023857</td>\n",
       "      <td>-0.062687</td>\n",
       "    </tr>\n",
       "    <tr>\n",
       "      <th>Age_minus1</th>\n",
       "      <td>1.000000</td>\n",
       "      <td>0.142022</td>\n",
       "      <td>-0.140668</td>\n",
       "      <td>-0.344476</td>\n",
       "      <td>1.000000</td>\n",
       "      <td>0.066411</td>\n",
       "      <td>0.131514</td>\n",
       "    </tr>\n",
       "    <tr>\n",
       "      <th>Fare_999</th>\n",
       "      <td>0.051179</td>\n",
       "      <td>1.000000</td>\n",
       "      <td>0.032079</td>\n",
       "      <td>-0.023857</td>\n",
       "      <td>0.066411</td>\n",
       "      <td>1.000000</td>\n",
       "      <td>0.071946</td>\n",
       "    </tr>\n",
       "    <tr>\n",
       "      <th>Fare_minus1</th>\n",
       "      <td>0.084585</td>\n",
       "      <td>1.000000</td>\n",
       "      <td>0.205233</td>\n",
       "      <td>-0.062687</td>\n",
       "      <td>0.131514</td>\n",
       "      <td>0.071946</td>\n",
       "      <td>1.000000</td>\n",
       "    </tr>\n",
       "  </tbody>\n",
       "</table>\n",
       "</div>"
      ],
      "text/plain": [
       "                  Age      Fare    Family    Age_99  Age_minus1  Fare_999  \\\n",
       "Age          1.000000  0.092644 -0.299113  1.000000    1.000000  0.051179   \n",
       "Fare         0.092644  1.000000  0.208268 -0.066273    0.142022  1.000000   \n",
       "Family      -0.299113  0.208268  1.000000 -0.144787   -0.140668  0.032079   \n",
       "Age_99       1.000000 -0.066273 -0.144787  1.000000   -0.344476 -0.023857   \n",
       "Age_minus1   1.000000  0.142022 -0.140668 -0.344476    1.000000  0.066411   \n",
       "Fare_999     0.051179  1.000000  0.032079 -0.023857    0.066411  1.000000   \n",
       "Fare_minus1  0.084585  1.000000  0.205233 -0.062687    0.131514  0.071946   \n",
       "\n",
       "             Fare_minus1  \n",
       "Age             0.084585  \n",
       "Fare            1.000000  \n",
       "Family          0.205233  \n",
       "Age_99         -0.062687  \n",
       "Age_minus1      0.131514  \n",
       "Fare_999        0.071946  \n",
       "Fare_minus1     1.000000  "
      ]
     },
     "execution_count": 27,
     "metadata": {},
     "output_type": "execute_result"
    }
   ],
   "source": [
    "X_train.corr()"
   ]
  },
  {
   "cell_type": "markdown",
   "id": "24dadf07-3dcd-4218-b3fd-ce0303c9b791",
   "metadata": {},
   "source": [
    "## Using Sklearn"
   ]
  },
  {
   "cell_type": "code",
   "execution_count": 28,
   "id": "95234e03-e4d2-4f7e-8630-fbf21d81d9f2",
   "metadata": {},
   "outputs": [],
   "source": [
    "X_train,X_test,y_train,y_test = train_test_split(X,y,test_size=0.2,random_state=2)"
   ]
  },
  {
   "cell_type": "code",
   "execution_count": 29,
   "id": "24c99826-828e-470a-a29a-81b36b00fdba",
   "metadata": {},
   "outputs": [],
   "source": [
    "imputer1 = SimpleImputer(strategy='constant',fill_value=99)\n",
    "imputer2 = SimpleImputer(strategy='constant',fill_value=999)"
   ]
  },
  {
   "cell_type": "code",
   "execution_count": 30,
   "id": "c463a7be-ca01-4a9f-b905-720968f7a272",
   "metadata": {},
   "outputs": [],
   "source": [
    "trf = ColumnTransformer([\n",
    "    ('imputer1',imputer1,['Age']),\n",
    "    ('imputer2',imputer2,['Fare'])\n",
    "],remainder='passthrough')"
   ]
  },
  {
   "cell_type": "code",
   "execution_count": 31,
   "id": "ab9e34f9-e291-47a7-bc5b-5a942999cfd2",
   "metadata": {},
   "outputs": [
    {
     "data": {
      "text/html": [
       "<style>#sk-container-id-1 {color: black;}#sk-container-id-1 pre{padding: 0;}#sk-container-id-1 div.sk-toggleable {background-color: white;}#sk-container-id-1 label.sk-toggleable__label {cursor: pointer;display: block;width: 100%;margin-bottom: 0;padding: 0.3em;box-sizing: border-box;text-align: center;}#sk-container-id-1 label.sk-toggleable__label-arrow:before {content: \"▸\";float: left;margin-right: 0.25em;color: #696969;}#sk-container-id-1 label.sk-toggleable__label-arrow:hover:before {color: black;}#sk-container-id-1 div.sk-estimator:hover label.sk-toggleable__label-arrow:before {color: black;}#sk-container-id-1 div.sk-toggleable__content {max-height: 0;max-width: 0;overflow: hidden;text-align: left;background-color: #f0f8ff;}#sk-container-id-1 div.sk-toggleable__content pre {margin: 0.2em;color: black;border-radius: 0.25em;background-color: #f0f8ff;}#sk-container-id-1 input.sk-toggleable__control:checked~div.sk-toggleable__content {max-height: 200px;max-width: 100%;overflow: auto;}#sk-container-id-1 input.sk-toggleable__control:checked~label.sk-toggleable__label-arrow:before {content: \"▾\";}#sk-container-id-1 div.sk-estimator input.sk-toggleable__control:checked~label.sk-toggleable__label {background-color: #d4ebff;}#sk-container-id-1 div.sk-label input.sk-toggleable__control:checked~label.sk-toggleable__label {background-color: #d4ebff;}#sk-container-id-1 input.sk-hidden--visually {border: 0;clip: rect(1px 1px 1px 1px);clip: rect(1px, 1px, 1px, 1px);height: 1px;margin: -1px;overflow: hidden;padding: 0;position: absolute;width: 1px;}#sk-container-id-1 div.sk-estimator {font-family: monospace;background-color: #f0f8ff;border: 1px dotted black;border-radius: 0.25em;box-sizing: border-box;margin-bottom: 0.5em;}#sk-container-id-1 div.sk-estimator:hover {background-color: #d4ebff;}#sk-container-id-1 div.sk-parallel-item::after {content: \"\";width: 100%;border-bottom: 1px solid gray;flex-grow: 1;}#sk-container-id-1 div.sk-label:hover label.sk-toggleable__label {background-color: #d4ebff;}#sk-container-id-1 div.sk-serial::before {content: \"\";position: absolute;border-left: 1px solid gray;box-sizing: border-box;top: 0;bottom: 0;left: 50%;z-index: 0;}#sk-container-id-1 div.sk-serial {display: flex;flex-direction: column;align-items: center;background-color: white;padding-right: 0.2em;padding-left: 0.2em;position: relative;}#sk-container-id-1 div.sk-item {position: relative;z-index: 1;}#sk-container-id-1 div.sk-parallel {display: flex;align-items: stretch;justify-content: center;background-color: white;position: relative;}#sk-container-id-1 div.sk-item::before, #sk-container-id-1 div.sk-parallel-item::before {content: \"\";position: absolute;border-left: 1px solid gray;box-sizing: border-box;top: 0;bottom: 0;left: 50%;z-index: -1;}#sk-container-id-1 div.sk-parallel-item {display: flex;flex-direction: column;z-index: 1;position: relative;background-color: white;}#sk-container-id-1 div.sk-parallel-item:first-child::after {align-self: flex-end;width: 50%;}#sk-container-id-1 div.sk-parallel-item:last-child::after {align-self: flex-start;width: 50%;}#sk-container-id-1 div.sk-parallel-item:only-child::after {width: 0;}#sk-container-id-1 div.sk-dashed-wrapped {border: 1px dashed gray;margin: 0 0.4em 0.5em 0.4em;box-sizing: border-box;padding-bottom: 0.4em;background-color: white;}#sk-container-id-1 div.sk-label label {font-family: monospace;font-weight: bold;display: inline-block;line-height: 1.2em;}#sk-container-id-1 div.sk-label-container {text-align: center;}#sk-container-id-1 div.sk-container {/* jupyter's `normalize.less` sets `[hidden] { display: none; }` but bootstrap.min.css set `[hidden] { display: none !important; }` so we also need the `!important` here to be able to override the default hidden behavior on the sphinx rendered scikit-learn.org. See: https://github.com/scikit-learn/scikit-learn/issues/21755 */display: inline-block !important;position: relative;}#sk-container-id-1 div.sk-text-repr-fallback {display: none;}</style><div id=\"sk-container-id-1\" class=\"sk-top-container\"><div class=\"sk-text-repr-fallback\"><pre>ColumnTransformer(remainder=&#x27;passthrough&#x27;,\n",
       "                  transformers=[(&#x27;imputer1&#x27;,\n",
       "                                 SimpleImputer(fill_value=99,\n",
       "                                               strategy=&#x27;constant&#x27;),\n",
       "                                 [&#x27;Age&#x27;]),\n",
       "                                (&#x27;imputer2&#x27;,\n",
       "                                 SimpleImputer(fill_value=999,\n",
       "                                               strategy=&#x27;constant&#x27;),\n",
       "                                 [&#x27;Fare&#x27;])])</pre><b>In a Jupyter environment, please rerun this cell to show the HTML representation or trust the notebook. <br />On GitHub, the HTML representation is unable to render, please try loading this page with nbviewer.org.</b></div><div class=\"sk-container\" hidden><div class=\"sk-item sk-dashed-wrapped\"><div class=\"sk-label-container\"><div class=\"sk-label sk-toggleable\"><input class=\"sk-toggleable__control sk-hidden--visually\" id=\"sk-estimator-id-1\" type=\"checkbox\" ><label for=\"sk-estimator-id-1\" class=\"sk-toggleable__label sk-toggleable__label-arrow\">ColumnTransformer</label><div class=\"sk-toggleable__content\"><pre>ColumnTransformer(remainder=&#x27;passthrough&#x27;,\n",
       "                  transformers=[(&#x27;imputer1&#x27;,\n",
       "                                 SimpleImputer(fill_value=99,\n",
       "                                               strategy=&#x27;constant&#x27;),\n",
       "                                 [&#x27;Age&#x27;]),\n",
       "                                (&#x27;imputer2&#x27;,\n",
       "                                 SimpleImputer(fill_value=999,\n",
       "                                               strategy=&#x27;constant&#x27;),\n",
       "                                 [&#x27;Fare&#x27;])])</pre></div></div></div><div class=\"sk-parallel\"><div class=\"sk-parallel-item\"><div class=\"sk-item\"><div class=\"sk-label-container\"><div class=\"sk-label sk-toggleable\"><input class=\"sk-toggleable__control sk-hidden--visually\" id=\"sk-estimator-id-2\" type=\"checkbox\" ><label for=\"sk-estimator-id-2\" class=\"sk-toggleable__label sk-toggleable__label-arrow\">imputer1</label><div class=\"sk-toggleable__content\"><pre>[&#x27;Age&#x27;]</pre></div></div></div><div class=\"sk-serial\"><div class=\"sk-item\"><div class=\"sk-estimator sk-toggleable\"><input class=\"sk-toggleable__control sk-hidden--visually\" id=\"sk-estimator-id-3\" type=\"checkbox\" ><label for=\"sk-estimator-id-3\" class=\"sk-toggleable__label sk-toggleable__label-arrow\">SimpleImputer</label><div class=\"sk-toggleable__content\"><pre>SimpleImputer(fill_value=99, strategy=&#x27;constant&#x27;)</pre></div></div></div></div></div></div><div class=\"sk-parallel-item\"><div class=\"sk-item\"><div class=\"sk-label-container\"><div class=\"sk-label sk-toggleable\"><input class=\"sk-toggleable__control sk-hidden--visually\" id=\"sk-estimator-id-4\" type=\"checkbox\" ><label for=\"sk-estimator-id-4\" class=\"sk-toggleable__label sk-toggleable__label-arrow\">imputer2</label><div class=\"sk-toggleable__content\"><pre>[&#x27;Fare&#x27;]</pre></div></div></div><div class=\"sk-serial\"><div class=\"sk-item\"><div class=\"sk-estimator sk-toggleable\"><input class=\"sk-toggleable__control sk-hidden--visually\" id=\"sk-estimator-id-5\" type=\"checkbox\" ><label for=\"sk-estimator-id-5\" class=\"sk-toggleable__label sk-toggleable__label-arrow\">SimpleImputer</label><div class=\"sk-toggleable__content\"><pre>SimpleImputer(fill_value=999, strategy=&#x27;constant&#x27;)</pre></div></div></div></div></div></div><div class=\"sk-parallel-item\"><div class=\"sk-item\"><div class=\"sk-label-container\"><div class=\"sk-label sk-toggleable\"><input class=\"sk-toggleable__control sk-hidden--visually\" id=\"sk-estimator-id-6\" type=\"checkbox\" ><label for=\"sk-estimator-id-6\" class=\"sk-toggleable__label sk-toggleable__label-arrow\">remainder</label><div class=\"sk-toggleable__content\"><pre>[&#x27;Family&#x27;]</pre></div></div></div><div class=\"sk-serial\"><div class=\"sk-item\"><div class=\"sk-estimator sk-toggleable\"><input class=\"sk-toggleable__control sk-hidden--visually\" id=\"sk-estimator-id-7\" type=\"checkbox\" ><label for=\"sk-estimator-id-7\" class=\"sk-toggleable__label sk-toggleable__label-arrow\">passthrough</label><div class=\"sk-toggleable__content\"><pre>passthrough</pre></div></div></div></div></div></div></div></div></div></div>"
      ],
      "text/plain": [
       "ColumnTransformer(remainder='passthrough',\n",
       "                  transformers=[('imputer1',\n",
       "                                 SimpleImputer(fill_value=99,\n",
       "                                               strategy='constant'),\n",
       "                                 ['Age']),\n",
       "                                ('imputer2',\n",
       "                                 SimpleImputer(fill_value=999,\n",
       "                                               strategy='constant'),\n",
       "                                 ['Fare'])])"
      ]
     },
     "execution_count": 31,
     "metadata": {},
     "output_type": "execute_result"
    }
   ],
   "source": [
    "trf.fit(X_train)"
   ]
  },
  {
   "cell_type": "code",
   "execution_count": 32,
   "id": "8bfc5dd7-ecba-48da-9f31-29852954ac27",
   "metadata": {},
   "outputs": [
    {
     "data": {
      "text/plain": [
       "array([99.])"
      ]
     },
     "execution_count": 32,
     "metadata": {},
     "output_type": "execute_result"
    }
   ],
   "source": [
    "trf.named_transformers_['imputer1'].statistics_"
   ]
  },
  {
   "cell_type": "code",
   "execution_count": 33,
   "id": "a91b0947-1742-4374-ac5b-ca1b525a3427",
   "metadata": {},
   "outputs": [
    {
     "data": {
      "text/plain": [
       "array([999.])"
      ]
     },
     "execution_count": 33,
     "metadata": {},
     "output_type": "execute_result"
    }
   ],
   "source": [
    "trf.named_transformers_['imputer2'].statistics_"
   ]
  },
  {
   "cell_type": "code",
   "execution_count": 34,
   "id": "4181eb6e-762a-4990-89e5-addf154e1b75",
   "metadata": {},
   "outputs": [],
   "source": [
    "X_train = trf.transform(X_train)\n",
    "X_test = trf.transform(X_test)"
   ]
  },
  {
   "cell_type": "code",
   "execution_count": 35,
   "id": "12bdd6db-cc5e-4834-9f30-405f34acc002",
   "metadata": {},
   "outputs": [
    {
     "data": {
      "text/plain": [
       "array([[ 40.    ,  27.7208,   0.    ],\n",
       "       [  4.    ,  16.7   ,   2.    ],\n",
       "       [ 47.    ,   9.    ,   0.    ],\n",
       "       ...,\n",
       "       [ 71.    ,  49.5042,   0.    ],\n",
       "       [ 99.    , 221.7792,   0.    ],\n",
       "       [ 99.    ,  25.925 ,   0.    ]])"
      ]
     },
     "execution_count": 35,
     "metadata": {},
     "output_type": "execute_result"
    }
   ],
   "source": [
    "X_train"
   ]
  },
  {
   "cell_type": "code",
   "execution_count": null,
   "id": "8ccba30e-3a94-4b81-9bb3-0e537b7e7929",
   "metadata": {},
   "outputs": [],
   "source": []
  },
  {
   "cell_type": "code",
   "execution_count": null,
   "id": "e5d1755c-df9d-4796-b100-85929d5beefd",
   "metadata": {},
   "outputs": [],
   "source": []
  },
  {
   "cell_type": "code",
   "execution_count": null,
   "id": "57617b8f-91d3-4e73-898b-90a44c0368fa",
   "metadata": {},
   "outputs": [],
   "source": []
  },
  {
   "cell_type": "code",
   "execution_count": null,
   "id": "8a107aad-b9f0-461f-bbfe-db18fa77b79a",
   "metadata": {},
   "outputs": [],
   "source": []
  },
  {
   "cell_type": "code",
   "execution_count": null,
   "id": "1afabd1e-b376-47ff-b6a2-11329ab17778",
   "metadata": {},
   "outputs": [],
   "source": []
  },
  {
   "cell_type": "code",
   "execution_count": null,
   "id": "b206899d-2f73-4ff5-ad70-a4b31ad8817d",
   "metadata": {},
   "outputs": [],
   "source": []
  },
  {
   "cell_type": "code",
   "execution_count": null,
   "id": "5b152778-1edc-4859-af91-65917c36a729",
   "metadata": {},
   "outputs": [],
   "source": []
  },
  {
   "cell_type": "code",
   "execution_count": null,
   "id": "ca7458f7-a89f-466e-b322-4debeb3fde3f",
   "metadata": {},
   "outputs": [],
   "source": []
  },
  {
   "cell_type": "code",
   "execution_count": null,
   "id": "ed13180a-2cab-4bd0-893b-321861764b8c",
   "metadata": {},
   "outputs": [],
   "source": []
  },
  {
   "cell_type": "code",
   "execution_count": null,
   "id": "5eca6bc2-6379-4a44-9ac3-2e013330675f",
   "metadata": {},
   "outputs": [],
   "source": []
  },
  {
   "cell_type": "code",
   "execution_count": null,
   "id": "1b411f0c-a069-4391-9cc6-fc3675514c5e",
   "metadata": {},
   "outputs": [],
   "source": [
    "\n"
   ]
  }
 ],
 "metadata": {
  "kernelspec": {
   "display_name": "Python 3 (ipykernel)",
   "language": "python",
   "name": "python3"
  },
  "language_info": {
   "codemirror_mode": {
    "name": "ipython",
    "version": 3
   },
   "file_extension": ".py",
   "mimetype": "text/x-python",
   "name": "python",
   "nbconvert_exporter": "python",
   "pygments_lexer": "ipython3",
   "version": "3.8.20"
  }
 },
 "nbformat": 4,
 "nbformat_minor": 5
}
