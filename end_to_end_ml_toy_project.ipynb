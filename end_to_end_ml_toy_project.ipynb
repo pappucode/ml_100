{
 "cells": [
  {
   "cell_type": "code",
   "execution_count": 170,
   "id": "a2d0295b-5833-406b-a598-b050cd2fb610",
   "metadata": {},
   "outputs": [],
   "source": [
    "import pandas as pd\n",
    "import numpy as np"
   ]
  },
  {
   "cell_type": "code",
   "execution_count": 171,
   "id": "504f7a8f-1176-433c-864a-a39c65770b19",
   "metadata": {},
   "outputs": [],
   "source": [
    "df = pd.read_csv(\"placement.csv\")"
   ]
  },
  {
   "cell_type": "code",
   "execution_count": 172,
   "id": "68b3eb93-46c5-4a36-8a18-725bd1abca58",
   "metadata": {},
   "outputs": [
    {
     "data": {
      "text/html": [
       "<div>\n",
       "<style scoped>\n",
       "    .dataframe tbody tr th:only-of-type {\n",
       "        vertical-align: middle;\n",
       "    }\n",
       "\n",
       "    .dataframe tbody tr th {\n",
       "        vertical-align: top;\n",
       "    }\n",
       "\n",
       "    .dataframe thead th {\n",
       "        text-align: right;\n",
       "    }\n",
       "</style>\n",
       "<table border=\"1\" class=\"dataframe\">\n",
       "  <thead>\n",
       "    <tr style=\"text-align: right;\">\n",
       "      <th></th>\n",
       "      <th>Unnamed: 0</th>\n",
       "      <th>cgpa</th>\n",
       "      <th>iq</th>\n",
       "      <th>placement</th>\n",
       "    </tr>\n",
       "  </thead>\n",
       "  <tbody>\n",
       "    <tr>\n",
       "      <th>0</th>\n",
       "      <td>0</td>\n",
       "      <td>6.8</td>\n",
       "      <td>123.0</td>\n",
       "      <td>1</td>\n",
       "    </tr>\n",
       "    <tr>\n",
       "      <th>1</th>\n",
       "      <td>1</td>\n",
       "      <td>5.9</td>\n",
       "      <td>106.0</td>\n",
       "      <td>0</td>\n",
       "    </tr>\n",
       "    <tr>\n",
       "      <th>2</th>\n",
       "      <td>2</td>\n",
       "      <td>5.3</td>\n",
       "      <td>121.0</td>\n",
       "      <td>0</td>\n",
       "    </tr>\n",
       "    <tr>\n",
       "      <th>3</th>\n",
       "      <td>3</td>\n",
       "      <td>7.4</td>\n",
       "      <td>132.0</td>\n",
       "      <td>1</td>\n",
       "    </tr>\n",
       "    <tr>\n",
       "      <th>4</th>\n",
       "      <td>4</td>\n",
       "      <td>5.8</td>\n",
       "      <td>142.0</td>\n",
       "      <td>0</td>\n",
       "    </tr>\n",
       "  </tbody>\n",
       "</table>\n",
       "</div>"
      ],
      "text/plain": [
       "   Unnamed: 0  cgpa     iq  placement\n",
       "0           0   6.8  123.0          1\n",
       "1           1   5.9  106.0          0\n",
       "2           2   5.3  121.0          0\n",
       "3           3   7.4  132.0          1\n",
       "4           4   5.8  142.0          0"
      ]
     },
     "execution_count": 172,
     "metadata": {},
     "output_type": "execute_result"
    }
   ],
   "source": [
    "df.head()"
   ]
  },
  {
   "cell_type": "code",
   "execution_count": 173,
   "id": "689d3b07-a620-4abd-81bd-33678cf8a550",
   "metadata": {},
   "outputs": [
    {
     "name": "stdout",
     "output_type": "stream",
     "text": [
      "<class 'pandas.core.frame.DataFrame'>\n",
      "RangeIndex: 100 entries, 0 to 99\n",
      "Data columns (total 4 columns):\n",
      " #   Column      Non-Null Count  Dtype  \n",
      "---  ------      --------------  -----  \n",
      " 0   Unnamed: 0  100 non-null    int64  \n",
      " 1   cgpa        100 non-null    float64\n",
      " 2   iq          100 non-null    float64\n",
      " 3   placement   100 non-null    int64  \n",
      "dtypes: float64(2), int64(2)\n",
      "memory usage: 3.2 KB\n"
     ]
    }
   ],
   "source": [
    "df.info()"
   ]
  },
  {
   "cell_type": "code",
   "execution_count": 174,
   "id": "3fc8ce50-7d8e-498f-9c09-b735c4250f9e",
   "metadata": {},
   "outputs": [
    {
     "data": {
      "text/plain": [
       "Unnamed: 0    False\n",
       "cgpa          False\n",
       "iq            False\n",
       "placement     False\n",
       "dtype: bool"
      ]
     },
     "execution_count": 174,
     "metadata": {},
     "output_type": "execute_result"
    }
   ],
   "source": [
    "df.isnull().any()"
   ]
  },
  {
   "cell_type": "code",
   "execution_count": 175,
   "id": "d10b4b7e-99da-4c45-8a92-dc6ce6a7eaeb",
   "metadata": {},
   "outputs": [],
   "source": [
    "# STEPS\n",
    "\n",
    "# 0. Preprocess + EDA + Feature Selection\n",
    "# 1. Extract input and output cols\n",
    "# 2. Scale the values\n",
    "# 3. Train test split\n",
    "# 4. Train the model\n",
    "# 5. Evaluate the model/model selection\n",
    "# 6. Deplo the model"
   ]
  },
  {
   "cell_type": "code",
   "execution_count": 176,
   "id": "8ea71db3-ebae-4b31-9284-7d5b4139d2c7",
   "metadata": {},
   "outputs": [],
   "source": [
    "df = df.iloc[:, 1:]"
   ]
  },
  {
   "cell_type": "code",
   "execution_count": 177,
   "id": "c311167b-c7d6-4cb5-b766-ed72a8a742df",
   "metadata": {},
   "outputs": [
    {
     "data": {
      "text/html": [
       "<div>\n",
       "<style scoped>\n",
       "    .dataframe tbody tr th:only-of-type {\n",
       "        vertical-align: middle;\n",
       "    }\n",
       "\n",
       "    .dataframe tbody tr th {\n",
       "        vertical-align: top;\n",
       "    }\n",
       "\n",
       "    .dataframe thead th {\n",
       "        text-align: right;\n",
       "    }\n",
       "</style>\n",
       "<table border=\"1\" class=\"dataframe\">\n",
       "  <thead>\n",
       "    <tr style=\"text-align: right;\">\n",
       "      <th></th>\n",
       "      <th>cgpa</th>\n",
       "      <th>iq</th>\n",
       "      <th>placement</th>\n",
       "    </tr>\n",
       "  </thead>\n",
       "  <tbody>\n",
       "    <tr>\n",
       "      <th>0</th>\n",
       "      <td>6.8</td>\n",
       "      <td>123.0</td>\n",
       "      <td>1</td>\n",
       "    </tr>\n",
       "    <tr>\n",
       "      <th>1</th>\n",
       "      <td>5.9</td>\n",
       "      <td>106.0</td>\n",
       "      <td>0</td>\n",
       "    </tr>\n",
       "    <tr>\n",
       "      <th>2</th>\n",
       "      <td>5.3</td>\n",
       "      <td>121.0</td>\n",
       "      <td>0</td>\n",
       "    </tr>\n",
       "    <tr>\n",
       "      <th>3</th>\n",
       "      <td>7.4</td>\n",
       "      <td>132.0</td>\n",
       "      <td>1</td>\n",
       "    </tr>\n",
       "    <tr>\n",
       "      <th>4</th>\n",
       "      <td>5.8</td>\n",
       "      <td>142.0</td>\n",
       "      <td>0</td>\n",
       "    </tr>\n",
       "  </tbody>\n",
       "</table>\n",
       "</div>"
      ],
      "text/plain": [
       "   cgpa     iq  placement\n",
       "0   6.8  123.0          1\n",
       "1   5.9  106.0          0\n",
       "2   5.3  121.0          0\n",
       "3   7.4  132.0          1\n",
       "4   5.8  142.0          0"
      ]
     },
     "execution_count": 177,
     "metadata": {},
     "output_type": "execute_result"
    }
   ],
   "source": [
    "df.head()"
   ]
  },
  {
   "cell_type": "code",
   "execution_count": 178,
   "id": "f3f05b67-75da-4d15-ae64-2be297bf7b30",
   "metadata": {},
   "outputs": [],
   "source": [
    "import matplotlib.pyplot as plt"
   ]
  },
  {
   "cell_type": "code",
   "execution_count": 179,
   "id": "63069dca-2dd0-4e26-99c9-9ce68b36cb94",
   "metadata": {},
   "outputs": [
    {
     "data": {
      "text/plain": [
       "<matplotlib.collections.PathCollection at 0x215d1db4580>"
      ]
     },
     "execution_count": 179,
     "metadata": {},
     "output_type": "execute_result"
    },
    {
     "data": {
      "image/png": "[encoded data removed]",
      "text/plain": [
       "<Figure size 640x480 with 1 Axes>"
      ]
     },
     "metadata": {},
     "output_type": "display_data"
    }
   ],
   "source": [
    "plt.scatter(df.cgpa, df.iq, c = df['placement'])"
   ]
  },
  {
   "cell_type": "code",
   "execution_count": 180,
   "id": "aa5719de-2829-457d-983a-e46b971362bf",
   "metadata": {},
   "outputs": [],
   "source": [
    "X = df.iloc[:, 0:2]\n",
    "y = df.iloc[:, -1]"
   ]
  },
  {
   "cell_type": "code",
   "execution_count": 181,
   "id": "c324292e-22f9-47bc-8381-d614aec35d4a",
   "metadata": {},
   "outputs": [
    {
     "data": {
      "text/html": [
       "<div>\n",
       "<style scoped>\n",
       "    .dataframe tbody tr th:only-of-type {\n",
       "        vertical-align: middle;\n",
       "    }\n",
       "\n",
       "    .dataframe tbody tr th {\n",
       "        vertical-align: top;\n",
       "    }\n",
       "\n",
       "    .dataframe thead th {\n",
       "        text-align: right;\n",
       "    }\n",
       "</style>\n",
       "<table border=\"1\" class=\"dataframe\">\n",
       "  <thead>\n",
       "    <tr style=\"text-align: right;\">\n",
       "      <th></th>\n",
       "      <th>cgpa</th>\n",
       "      <th>iq</th>\n",
       "    </tr>\n",
       "  </thead>\n",
       "  <tbody>\n",
       "    <tr>\n",
       "      <th>0</th>\n",
       "      <td>6.8</td>\n",
       "      <td>123.0</td>\n",
       "    </tr>\n",
       "    <tr>\n",
       "      <th>1</th>\n",
       "      <td>5.9</td>\n",
       "      <td>106.0</td>\n",
       "    </tr>\n",
       "    <tr>\n",
       "      <th>2</th>\n",
       "      <td>5.3</td>\n",
       "      <td>121.0</td>\n",
       "    </tr>\n",
       "    <tr>\n",
       "      <th>3</th>\n",
       "      <td>7.4</td>\n",
       "      <td>132.0</td>\n",
       "    </tr>\n",
       "    <tr>\n",
       "      <th>4</th>\n",
       "      <td>5.8</td>\n",
       "      <td>142.0</td>\n",
       "    </tr>\n",
       "    <tr>\n",
       "      <th>...</th>\n",
       "      <td>...</td>\n",
       "      <td>...</td>\n",
       "    </tr>\n",
       "    <tr>\n",
       "      <th>95</th>\n",
       "      <td>4.3</td>\n",
       "      <td>200.0</td>\n",
       "    </tr>\n",
       "    <tr>\n",
       "      <th>96</th>\n",
       "      <td>4.4</td>\n",
       "      <td>42.0</td>\n",
       "    </tr>\n",
       "    <tr>\n",
       "      <th>97</th>\n",
       "      <td>6.7</td>\n",
       "      <td>182.0</td>\n",
       "    </tr>\n",
       "    <tr>\n",
       "      <th>98</th>\n",
       "      <td>6.3</td>\n",
       "      <td>103.0</td>\n",
       "    </tr>\n",
       "    <tr>\n",
       "      <th>99</th>\n",
       "      <td>6.2</td>\n",
       "      <td>113.0</td>\n",
       "    </tr>\n",
       "  </tbody>\n",
       "</table>\n",
       "<p>100 rows × 2 columns</p>\n",
       "</div>"
      ],
      "text/plain": [
       "    cgpa     iq\n",
       "0    6.8  123.0\n",
       "1    5.9  106.0\n",
       "2    5.3  121.0\n",
       "3    7.4  132.0\n",
       "4    5.8  142.0\n",
       "..   ...    ...\n",
       "95   4.3  200.0\n",
       "96   4.4   42.0\n",
       "97   6.7  182.0\n",
       "98   6.3  103.0\n",
       "99   6.2  113.0\n",
       "\n",
       "[100 rows x 2 columns]"
      ]
     },
     "execution_count": 181,
     "metadata": {},
     "output_type": "execute_result"
    }
   ],
   "source": [
    "X"
   ]
  },
  {
   "cell_type": "code",
   "execution_count": 182,
   "id": "c3b20814-220e-4a0a-810d-996d4f7eca40",
   "metadata": {},
   "outputs": [
    {
     "data": {
      "text/plain": [
       "(100,)"
      ]
     },
     "execution_count": 182,
     "metadata": {},
     "output_type": "execute_result"
    }
   ],
   "source": [
    "y.shape"
   ]
  },
  {
   "cell_type": "code",
   "execution_count": 183,
   "id": "fc97e1c9-00ae-4895-8a86-571d508af399",
   "metadata": {},
   "outputs": [],
   "source": [
    "from sklearn.model_selection import train_test_split"
   ]
  },
  {
   "cell_type": "code",
   "execution_count": 184,
   "id": "ae024873-122c-4b40-ab62-dc1bfa52ff83",
   "metadata": {},
   "outputs": [],
   "source": [
    "# train_test_split(X, y, test_size=0.1)"
   ]
  },
  {
   "cell_type": "code",
   "execution_count": 185,
   "id": "f610a4f6-c1cb-41e6-82f6-f8c08d2c30f3",
   "metadata": {},
   "outputs": [],
   "source": [
    "X_train, X_test, y_train, y_test = train_test_split(X, y, test_size=0.1)"
   ]
  },
  {
   "cell_type": "code",
   "execution_count": 186,
   "id": "069192bf-a720-4f6b-b0ef-2e1182f8fb97",
   "metadata": {},
   "outputs": [
    {
     "data": {
      "text/html": [
       "<div>\n",
       "<style scoped>\n",
       "    .dataframe tbody tr th:only-of-type {\n",
       "        vertical-align: middle;\n",
       "    }\n",
       "\n",
       "    .dataframe tbody tr th {\n",
       "        vertical-align: top;\n",
       "    }\n",
       "\n",
       "    .dataframe thead th {\n",
       "        text-align: right;\n",
       "    }\n",
       "</style>\n",
       "<table border=\"1\" class=\"dataframe\">\n",
       "  <thead>\n",
       "    <tr style=\"text-align: right;\">\n",
       "      <th></th>\n",
       "      <th>cgpa</th>\n",
       "      <th>iq</th>\n",
       "    </tr>\n",
       "  </thead>\n",
       "  <tbody>\n",
       "    <tr>\n",
       "      <th>20</th>\n",
       "      <td>6.6</td>\n",
       "      <td>120.0</td>\n",
       "    </tr>\n",
       "    <tr>\n",
       "      <th>77</th>\n",
       "      <td>7.3</td>\n",
       "      <td>50.0</td>\n",
       "    </tr>\n",
       "    <tr>\n",
       "      <th>78</th>\n",
       "      <td>6.1</td>\n",
       "      <td>81.0</td>\n",
       "    </tr>\n",
       "    <tr>\n",
       "      <th>43</th>\n",
       "      <td>6.8</td>\n",
       "      <td>141.0</td>\n",
       "    </tr>\n",
       "    <tr>\n",
       "      <th>7</th>\n",
       "      <td>5.0</td>\n",
       "      <td>63.0</td>\n",
       "    </tr>\n",
       "    <tr>\n",
       "      <th>...</th>\n",
       "      <td>...</td>\n",
       "      <td>...</td>\n",
       "    </tr>\n",
       "    <tr>\n",
       "      <th>36</th>\n",
       "      <td>5.7</td>\n",
       "      <td>140.0</td>\n",
       "    </tr>\n",
       "    <tr>\n",
       "      <th>8</th>\n",
       "      <td>6.1</td>\n",
       "      <td>156.0</td>\n",
       "    </tr>\n",
       "    <tr>\n",
       "      <th>64</th>\n",
       "      <td>7.0</td>\n",
       "      <td>64.0</td>\n",
       "    </tr>\n",
       "    <tr>\n",
       "      <th>21</th>\n",
       "      <td>7.1</td>\n",
       "      <td>151.0</td>\n",
       "    </tr>\n",
       "    <tr>\n",
       "      <th>81</th>\n",
       "      <td>5.4</td>\n",
       "      <td>107.0</td>\n",
       "    </tr>\n",
       "  </tbody>\n",
       "</table>\n",
       "<p>90 rows × 2 columns</p>\n",
       "</div>"
      ],
      "text/plain": [
       "    cgpa     iq\n",
       "20   6.6  120.0\n",
       "77   7.3   50.0\n",
       "78   6.1   81.0\n",
       "43   6.8  141.0\n",
       "7    5.0   63.0\n",
       "..   ...    ...\n",
       "36   5.7  140.0\n",
       "8    6.1  156.0\n",
       "64   7.0   64.0\n",
       "21   7.1  151.0\n",
       "81   5.4  107.0\n",
       "\n",
       "[90 rows x 2 columns]"
      ]
     },
     "execution_count": 186,
     "metadata": {},
     "output_type": "execute_result"
    }
   ],
   "source": [
    "X_train"
   ]
  },
  {
   "cell_type": "code",
   "execution_count": 187,
   "id": "bdbb9c6a-8187-46b3-9b84-e9115ddcb91a",
   "metadata": {},
   "outputs": [
    {
     "data": {
      "text/plain": [
       "76    0\n",
       "55    1\n",
       "11    1\n",
       "22    0\n",
       "83    1\n",
       "3     1\n",
       "70    1\n",
       "56    0\n",
       "34    0\n",
       "96    0\n",
       "Name: placement, dtype: int64"
      ]
     },
     "execution_count": 187,
     "metadata": {},
     "output_type": "execute_result"
    }
   ],
   "source": [
    "y_test"
   ]
  },
  {
   "cell_type": "code",
   "execution_count": 188,
   "id": "c9a0bfed-71cc-4569-b05f-e05d2edc01ed",
   "metadata": {},
   "outputs": [],
   "source": [
    "from sklearn.preprocessing import StandardScaler"
   ]
  },
  {
   "cell_type": "code",
   "execution_count": 189,
   "id": "ae6000f1-3ea9-4e97-83ff-325ea2b68c79",
   "metadata": {},
   "outputs": [],
   "source": [
    "scaler = StandardScaler()"
   ]
  },
  {
   "cell_type": "code",
   "execution_count": 190,
   "id": "d63ace72-f26e-4793-ad21-34852ae50c59",
   "metadata": {},
   "outputs": [],
   "source": [
    "X_train_scaled  = scaler.fit_transform(X_train) "
   ]
  },
  {
   "cell_type": "code",
   "execution_count": 191,
   "id": "320eaf3e-45c7-4a1c-b869-6d94a2ae3998",
   "metadata": {},
   "outputs": [
    {
     "data": {
      "text/plain": [
       "array([[ 0.55025736, -0.10302387],\n",
       "       [ 1.17040429, -1.84778292],\n",
       "       [ 0.10729526, -1.07510391],\n",
       "       [ 0.72744219,  0.42040385],\n",
       "       [-0.86722134, -1.52375624],\n",
       "       [-1.1329986 , -0.92555314],\n",
       "       [-2.19610762,  2.71351575],\n",
       "       [-1.04440618, -0.3024249 ],\n",
       "       [-0.95581376,  0.24592794],\n",
       "       [-0.77862892,  0.09637717],\n",
       "       [-0.77862892, -1.44898085],\n",
       "       [ 0.90462703, -0.3024249 ],\n",
       "       [-0.86722134, -0.15287413],\n",
       "       [-1.84173795, -0.37720029],\n",
       "       [-1.39877586,  0.61980488],\n",
       "       [-1.22159102,  0.5450295 ],\n",
       "       [ 0.46166494,  0.89398131],\n",
       "       [ 0.90462703,  1.26785825],\n",
       "       [-1.04440618,  0.42040385],\n",
       "       [ 0.46166494, -2.1718096 ],\n",
       "       [ 1.43618154,  0.09637717],\n",
       "       [ 1.87914364,  1.04353208],\n",
       "       [ 0.72744219, -0.02824848],\n",
       "       [ 1.34758912,  0.84413105],\n",
       "       [-0.15848199,  1.04353208],\n",
       "       [ 1.43618154, -0.87570288],\n",
       "       [-0.60144409, -0.07809874],\n",
       "       [-0.60144409, -0.25257464],\n",
       "       [ 0.55025736,  0.34562846],\n",
       "       [ 0.63884978,  0.74443053],\n",
       "       [ 1.34758912, -1.5736065 ],\n",
       "       [-0.86722134, -0.82585262],\n",
       "       [ 0.81603461,  0.37055359],\n",
       "       [-1.48736827,  1.89098648],\n",
       "       [-1.1329986 , -1.79793266],\n",
       "       [ 0.01870284, -1.97240857],\n",
       "       [ 1.79055122, -1.12495417],\n",
       "       [ 1.17040429, -0.95047827],\n",
       "       [-1.75314553, -1.22465469],\n",
       "       [-0.69003651,  2.48918958],\n",
       "       [ 2.05632847,  1.09338234],\n",
       "       [-0.69003651,  0.19607768],\n",
       "       [ 0.19588768, -0.27749977],\n",
       "       [-0.95581376,  0.66965514],\n",
       "       [ 0.01870284, -0.5516762 ],\n",
       "       [ 0.37307252,  0.42040385],\n",
       "       [ 0.63884978,  1.44233415],\n",
       "       [ 1.87914364,  0.61980488],\n",
       "       [-0.06988957, -0.45197568],\n",
       "       [ 0.99321945, -1.89763318],\n",
       "       [ 0.2844801 , -0.52675107],\n",
       "       [-0.51285167,  0.27085307],\n",
       "       [ 0.46166494,  0.14622743],\n",
       "       [ 0.2844801 ,  0.09637717],\n",
       "       [ 0.37307252, -0.20272439],\n",
       "       [ 2.23351331, -0.10302387],\n",
       "       [ 0.10729526,  0.19607768],\n",
       "       [ 0.10729526, -0.52675107],\n",
       "       [-0.24707441,  1.11830747],\n",
       "       [-0.24707441,  0.47025411],\n",
       "       [-1.75314553, -0.60152646],\n",
       "       [ 1.17040429, -0.20272439],\n",
       "       [ 0.46166494, -0.85077775],\n",
       "       [-0.69003651, -0.35227516],\n",
       "       [-0.51285167, -0.25257464],\n",
       "       [ 0.01870284, -1.44898085],\n",
       "       [ 0.72744219, -0.85077775],\n",
       "       [-1.1329986 , -0.07809874],\n",
       "       [-0.69003651,  0.91890644],\n",
       "       [ 0.01870284, -0.00332335],\n",
       "       [-0.51285167,  0.37055359],\n",
       "       [-0.95581376, -1.5736065 ],\n",
       "       [-0.77862892,  1.29278338],\n",
       "       [-1.04440618,  1.11830747],\n",
       "       [ 0.01870284,  0.61980488],\n",
       "       [-2.37329246,  1.46725928],\n",
       "       [ 0.72744219, -0.3024249 ],\n",
       "       [-0.95581376,  1.79128596],\n",
       "       [ 1.17040429,  0.32070333],\n",
       "       [-0.24707441,  0.19607768],\n",
       "       [ 0.81603461, -0.70122697],\n",
       "       [ 0.90462703,  1.86606135],\n",
       "       [ 0.90462703,  0.37055359],\n",
       "       [-0.15848199,  0.44532898],\n",
       "       [-0.69003651, -0.85077775],\n",
       "       [-0.24707441,  0.39547872],\n",
       "       [ 0.10729526,  0.79428079],\n",
       "       [ 0.90462703, -1.49883111],\n",
       "       [ 0.99321945,  0.66965514],\n",
       "       [-0.51285167, -0.42705055]])"
      ]
     },
     "execution_count": 191,
     "metadata": {},
     "output_type": "execute_result"
    }
   ],
   "source": [
    "X_train_scaled "
   ]
  },
  {
   "cell_type": "code",
   "execution_count": 192,
   "id": "0ae7fdd6-6f2b-4cbe-a425-c5788ef40ae1",
   "metadata": {},
   "outputs": [],
   "source": [
    "X_test_scaled  = scaler.fit_transform(X_test) "
   ]
  },
  {
   "cell_type": "code",
   "execution_count": 193,
   "id": "0b8627d0-8d07-4b67-a032-a9878634b355",
   "metadata": {},
   "outputs": [
    {
     "data": {
      "text/plain": [
       "array([[-0.9904173 ,  1.01675978],\n",
       "       [ 1.40309118, -0.12849162],\n",
       "       [ 0.6602782 ,  0.54189944],\n",
       "       [-0.9904173 ,  0.03910615],\n",
       "       [ 1.15548685,  0.31843575],\n",
       "       [ 1.07295208,  0.37430168],\n",
       "       [ 0.16506955,  0.23463687],\n",
       "       [ 0.        , -1.4972067 ],\n",
       "       [-1.07295208,  1.24022346],\n",
       "       [-1.40309118, -2.1396648 ]])"
      ]
     },
     "execution_count": 193,
     "metadata": {},
     "output_type": "execute_result"
    }
   ],
   "source": [
    "X_test_scaled"
   ]
  },
  {
   "cell_type": "code",
   "execution_count": 194,
   "id": "ae7a3abb-47c6-47d4-9961-bbc5783eef80",
   "metadata": {},
   "outputs": [],
   "source": [
    "from sklearn.linear_model import LogisticRegression "
   ]
  },
  {
   "cell_type": "code",
   "execution_count": 195,
   "id": "0bec5bd9-7a85-4ef0-a5c5-47dcd8c98974",
   "metadata": {},
   "outputs": [],
   "source": [
    "clf = LogisticRegression()"
   ]
  },
  {
   "cell_type": "code",
   "execution_count": 196,
   "id": "8f17f099-1239-41dc-999d-4c40404d62c9",
   "metadata": {},
   "outputs": [
    {
     "data": {
      "text/html": [
       "<style>#sk-container-id-2 {color: black;}#sk-container-id-2 pre{padding: 0;}#sk-container-id-2 div.sk-toggleable {background-color: white;}#sk-container-id-2 label.sk-toggleable__label {cursor: pointer;display: block;width: 100%;margin-bottom: 0;padding: 0.3em;box-sizing: border-box;text-align: center;}#sk-container-id-2 label.sk-toggleable__label-arrow:before {content: \"▸\";float: left;margin-right: 0.25em;color: #696969;}#sk-container-id-2 label.sk-toggleable__label-arrow:hover:before {color: black;}#sk-container-id-2 div.sk-estimator:hover label.sk-toggleable__label-arrow:before {color: black;}#sk-container-id-2 div.sk-toggleable__content {max-height: 0;max-width: 0;overflow: hidden;text-align: left;background-color: #f0f8ff;}#sk-container-id-2 div.sk-toggleable__content pre {margin: 0.2em;color: black;border-radius: 0.25em;background-color: #f0f8ff;}#sk-container-id-2 input.sk-toggleable__control:checked~div.sk-toggleable__content {max-height: 200px;max-width: 100%;overflow: auto;}#sk-container-id-2 input.sk-toggleable__control:checked~label.sk-toggleable__label-arrow:before {content: \"▾\";}#sk-container-id-2 div.sk-estimator input.sk-toggleable__control:checked~label.sk-toggleable__label {background-color: #d4ebff;}#sk-container-id-2 div.sk-label input.sk-toggleable__control:checked~label.sk-toggleable__label {background-color: #d4ebff;}#sk-container-id-2 input.sk-hidden--visually {border: 0;clip: rect(1px 1px 1px 1px);clip: rect(1px, 1px, 1px, 1px);height: 1px;margin: -1px;overflow: hidden;padding: 0;position: absolute;width: 1px;}#sk-container-id-2 div.sk-estimator {font-family: monospace;background-color: #f0f8ff;border: 1px dotted black;border-radius: 0.25em;box-sizing: border-box;margin-bottom: 0.5em;}#sk-container-id-2 div.sk-estimator:hover {background-color: #d4ebff;}#sk-container-id-2 div.sk-parallel-item::after {content: \"\";width: 100%;border-bottom: 1px solid gray;flex-grow: 1;}#sk-container-id-2 div.sk-label:hover label.sk-toggleable__label {background-color: #d4ebff;}#sk-container-id-2 div.sk-serial::before {content: \"\";position: absolute;border-left: 1px solid gray;box-sizing: border-box;top: 0;bottom: 0;left: 50%;z-index: 0;}#sk-container-id-2 div.sk-serial {display: flex;flex-direction: column;align-items: center;background-color: white;padding-right: 0.2em;padding-left: 0.2em;position: relative;}#sk-container-id-2 div.sk-item {position: relative;z-index: 1;}#sk-container-id-2 div.sk-parallel {display: flex;align-items: stretch;justify-content: center;background-color: white;position: relative;}#sk-container-id-2 div.sk-item::before, #sk-container-id-2 div.sk-parallel-item::before {content: \"\";position: absolute;border-left: 1px solid gray;box-sizing: border-box;top: 0;bottom: 0;left: 50%;z-index: -1;}#sk-container-id-2 div.sk-parallel-item {display: flex;flex-direction: column;z-index: 1;position: relative;background-color: white;}#sk-container-id-2 div.sk-parallel-item:first-child::after {align-self: flex-end;width: 50%;}#sk-container-id-2 div.sk-parallel-item:last-child::after {align-self: flex-start;width: 50%;}#sk-container-id-2 div.sk-parallel-item:only-child::after {width: 0;}#sk-container-id-2 div.sk-dashed-wrapped {border: 1px dashed gray;margin: 0 0.4em 0.5em 0.4em;box-sizing: border-box;padding-bottom: 0.4em;background-color: white;}#sk-container-id-2 div.sk-label label {font-family: monospace;font-weight: bold;display: inline-block;line-height: 1.2em;}#sk-container-id-2 div.sk-label-container {text-align: center;}#sk-container-id-2 div.sk-container {/* jupyter's `normalize.less` sets `[hidden] { display: none; }` but bootstrap.min.css set `[hidden] { display: none !important; }` so we also need the `!important` here to be able to override the default hidden behavior on the sphinx rendered scikit-learn.org. See: https://github.com/scikit-learn/scikit-learn/issues/21755 */display: inline-block !important;position: relative;}#sk-container-id-2 div.sk-text-repr-fallback {display: none;}</style><div id=\"sk-container-id-2\" class=\"sk-top-container\"><div class=\"sk-text-repr-fallback\"><pre>LogisticRegression()</pre><b>In a Jupyter environment, please rerun this cell to show the HTML representation or trust the notebook. <br />On GitHub, the HTML representation is unable to render, please try loading this page with nbviewer.org.</b></div><div class=\"sk-container\" hidden><div class=\"sk-item\"><div class=\"sk-estimator sk-toggleable\"><input class=\"sk-toggleable__control sk-hidden--visually\" id=\"sk-estimator-id-2\" type=\"checkbox\" checked><label for=\"sk-estimator-id-2\" class=\"sk-toggleable__label sk-toggleable__label-arrow\">LogisticRegression</label><div class=\"sk-toggleable__content\"><pre>LogisticRegression()</pre></div></div></div></div></div>"
      ],
      "text/plain": [
       "LogisticRegression()"
      ]
     },
     "execution_count": 196,
     "metadata": {},
     "output_type": "execute_result"
    }
   ],
   "source": [
    "clf.fit(X_train_scaled, y_train)"
   ]
  },
  {
   "cell_type": "code",
   "execution_count": 200,
   "id": "a54d5f18-3bf3-4416-902f-abd58466f66e",
   "metadata": {},
   "outputs": [
    {
     "data": {
      "text/plain": [
       "array([0, 1, 1, 0, 1, 1, 1, 1, 0, 0], dtype=int64)"
      ]
     },
     "execution_count": 200,
     "metadata": {},
     "output_type": "execute_result"
    }
   ],
   "source": [
    "y_pred = clf.predict(X_test_scaled)\n",
    "y_pred"
   ]
  },
  {
   "cell_type": "code",
   "execution_count": 198,
   "id": "fa843a4d-0efd-4b3d-bf80-e9fdb701c71c",
   "metadata": {},
   "outputs": [
    {
     "data": {
      "text/plain": [
       "76    0\n",
       "55    1\n",
       "11    1\n",
       "22    0\n",
       "83    1\n",
       "3     1\n",
       "70    1\n",
       "56    0\n",
       "34    0\n",
       "96    0\n",
       "Name: placement, dtype: int64"
      ]
     },
     "execution_count": 198,
     "metadata": {},
     "output_type": "execute_result"
    }
   ],
   "source": [
    "y_test"
   ]
  },
  {
   "cell_type": "code",
   "execution_count": 201,
   "id": "8ee3abaf-2289-4afe-919a-87c34db4e2b6",
   "metadata": {},
   "outputs": [],
   "source": [
    "from sklearn.metrics import accuracy_score"
   ]
  },
  {
   "cell_type": "code",
   "execution_count": 202,
   "id": "927a7eff-4afb-4cc9-872d-b74d7c487129",
   "metadata": {},
   "outputs": [
    {
     "data": {
      "text/plain": [
       "0.9"
      ]
     },
     "execution_count": 202,
     "metadata": {},
     "output_type": "execute_result"
    }
   ],
   "source": [
    "accuracy_score(y_test, y_pred)"
   ]
  },
  {
   "cell_type": "code",
   "execution_count": 206,
   "id": "4ca08023-ea14-4b7f-b34f-2c8c953a991d",
   "metadata": {},
   "outputs": [],
   "source": [
    "from mlxtend.plotting import plot_decision_regions"
   ]
  },
  {
   "cell_type": "code",
   "execution_count": 209,
   "id": "175284cd-30a7-4b7d-b947-2256354f73a5",
   "metadata": {},
   "outputs": [
    {
     "data": {
      "text/plain": [
       "<Axes: >"
      ]
     },
     "execution_count": 209,
     "metadata": {},
     "output_type": "execute_result"
    },
    {
     "data": {
      "image/png": "[encoded data removed]",
      "text/plain": [
       "<Figure size 640x480 with 1 Axes>"
      ]
     },
     "metadata": {},
     "output_type": "display_data"
    }
   ],
   "source": [
    "plot_decision_regions(X_train_scaled, y_train.values, clf=clf, legend = 1)"
   ]
  },
  {
   "cell_type": "code",
   "execution_count": 210,
   "id": "2f7b09a2-d62e-4124-9dc7-3b47cee87144",
   "metadata": {},
   "outputs": [],
   "source": [
    "import pickle"
   ]
  },
  {
   "cell_type": "code",
   "execution_count": 211,
   "id": "5dd2b5dd-8525-4b2f-9564-6dfe41295606",
   "metadata": {},
   "outputs": [],
   "source": [
    "pickle.dump(clf, open('model.pkl','wb'))"
   ]
  },
  {
   "cell_type": "code",
   "execution_count": null,
   "id": "6d570558-6a83-4d83-b9ea-559d630bb9ca",
   "metadata": {},
   "outputs": [],
   "source": []
  },
  {
   "cell_type": "code",
   "execution_count": null,
   "id": "966d2f41-7281-4044-b3ed-9dce1108f180",
   "metadata": {},
   "outputs": [],
   "source": []
  },
  {
   "cell_type": "code",
   "execution_count": null,
   "id": "8be3e310-9d0e-45ff-8c28-0853ccfbaf63",
   "metadata": {},
   "outputs": [],
   "source": []
  },
  {
   "cell_type": "code",
   "execution_count": null,
   "id": "b7e95a5f-cfd4-465d-b7e7-d9370967bb0e",
   "metadata": {},
   "outputs": [],
   "source": []
  },
  {
   "cell_type": "code",
   "execution_count": null,
   "id": "235c2058-f411-4766-9252-9147c40abfa7",
   "metadata": {},
   "outputs": [],
   "source": []
  },
  {
   "cell_type": "code",
   "execution_count": null,
   "id": "4cc14530-06ad-49a8-a410-7b273d102257",
   "metadata": {},
   "outputs": [],
   "source": []
  }
 ],
 "metadata": {
  "kernelspec": {
   "display_name": "Python 3 (ipykernel)",
   "language": "python",
   "name": "python3"
  },
  "language_info": {
   "codemirror_mode": {
    "name": "ipython",
    "version": 3
   },
   "file_extension": ".py",
   "mimetype": "text/x-python",
   "name": "python",
   "nbconvert_exporter": "python",
   "pygments_lexer": "ipython3",
   "version": "3.8.20"
  }
 },
 "nbformat": 4,
 "nbformat_minor": 5
}
