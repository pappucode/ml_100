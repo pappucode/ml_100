{
 "cells": [
  {
   "cell_type": "markdown",
   "id": "a6cc1db5-0f60-4d86-a354-2c6185bb321e",
   "metadata": {},
   "source": [
    "# 1. Importing pandas"
   ]
  },
  {
   "cell_type": "code",
   "execution_count": 125,
   "id": "eaed5efd-db10-4fbb-8985-aab2c6ab7692",
   "metadata": {},
   "outputs": [],
   "source": [
    "import pandas as pd"
   ]
  },
  {
   "cell_type": "markdown",
   "id": "aae19f75-4c5f-4407-8b04-dca42642fc9e",
   "metadata": {},
   "source": [
    "# 2. Opening a local csv File"
   ]
  },
  {
   "cell_type": "code",
   "execution_count": 126,
   "id": "791acda9-77ae-4327-91a0-d206a5df5d77",
   "metadata": {},
   "outputs": [
    {
     "ename": "FileNotFoundError",
     "evalue": "[Errno 2] No such file or directory: 'datasets/aug_train.csv'",
     "output_type": "error",
     "traceback": [
      "\u001b[1;31m---------------------------------------------------------------------------\u001b[0m",
      "\u001b[1;31mFileNotFoundError\u001b[0m                         Traceback (most recent call last)",
      "Cell \u001b[1;32mIn[126], line 1\u001b[0m\n\u001b[1;32m----> 1\u001b[0m df \u001b[38;5;241m=\u001b[39m \u001b[43mpd\u001b[49m\u001b[38;5;241;43m.\u001b[39;49m\u001b[43mread_csv\u001b[49m\u001b[43m(\u001b[49m\u001b[38;5;124;43m\"\u001b[39;49m\u001b[38;5;124;43mdatasets/aug_train.csv\u001b[39;49m\u001b[38;5;124;43m\"\u001b[39;49m\u001b[43m)\u001b[49m\n\u001b[0;32m      2\u001b[0m df\u001b[38;5;241m.\u001b[39mhead()\n",
      "File \u001b[1;32m~\\anaconda3\\envs\\ml_100\\lib\\site-packages\\pandas\\io\\parsers\\readers.py:912\u001b[0m, in \u001b[0;36mread_csv\u001b[1;34m(filepath_or_buffer, sep, delimiter, header, names, index_col, usecols, dtype, engine, converters, true_values, false_values, skipinitialspace, skiprows, skipfooter, nrows, na_values, keep_default_na, na_filter, verbose, skip_blank_lines, parse_dates, infer_datetime_format, keep_date_col, date_parser, date_format, dayfirst, cache_dates, iterator, chunksize, compression, thousands, decimal, lineterminator, quotechar, quoting, doublequote, escapechar, comment, encoding, encoding_errors, dialect, on_bad_lines, delim_whitespace, low_memory, memory_map, float_precision, storage_options, dtype_backend)\u001b[0m\n\u001b[0;32m    899\u001b[0m kwds_defaults \u001b[38;5;241m=\u001b[39m _refine_defaults_read(\n\u001b[0;32m    900\u001b[0m     dialect,\n\u001b[0;32m    901\u001b[0m     delimiter,\n\u001b[1;32m   (...)\u001b[0m\n\u001b[0;32m    908\u001b[0m     dtype_backend\u001b[38;5;241m=\u001b[39mdtype_backend,\n\u001b[0;32m    909\u001b[0m )\n\u001b[0;32m    910\u001b[0m kwds\u001b[38;5;241m.\u001b[39mupdate(kwds_defaults)\n\u001b[1;32m--> 912\u001b[0m \u001b[38;5;28;01mreturn\u001b[39;00m \u001b[43m_read\u001b[49m\u001b[43m(\u001b[49m\u001b[43mfilepath_or_buffer\u001b[49m\u001b[43m,\u001b[49m\u001b[43m \u001b[49m\u001b[43mkwds\u001b[49m\u001b[43m)\u001b[49m\n",
      "File \u001b[1;32m~\\anaconda3\\envs\\ml_100\\lib\\site-packages\\pandas\\io\\parsers\\readers.py:577\u001b[0m, in \u001b[0;36m_read\u001b[1;34m(filepath_or_buffer, kwds)\u001b[0m\n\u001b[0;32m    574\u001b[0m _validate_names(kwds\u001b[38;5;241m.\u001b[39mget(\u001b[38;5;124m\"\u001b[39m\u001b[38;5;124mnames\u001b[39m\u001b[38;5;124m\"\u001b[39m, \u001b[38;5;28;01mNone\u001b[39;00m))\n\u001b[0;32m    576\u001b[0m \u001b[38;5;66;03m# Create the parser.\u001b[39;00m\n\u001b[1;32m--> 577\u001b[0m parser \u001b[38;5;241m=\u001b[39m \u001b[43mTextFileReader\u001b[49m\u001b[43m(\u001b[49m\u001b[43mfilepath_or_buffer\u001b[49m\u001b[43m,\u001b[49m\u001b[43m \u001b[49m\u001b[38;5;241;43m*\u001b[39;49m\u001b[38;5;241;43m*\u001b[39;49m\u001b[43mkwds\u001b[49m\u001b[43m)\u001b[49m\n\u001b[0;32m    579\u001b[0m \u001b[38;5;28;01mif\u001b[39;00m chunksize \u001b[38;5;129;01mor\u001b[39;00m iterator:\n\u001b[0;32m    580\u001b[0m     \u001b[38;5;28;01mreturn\u001b[39;00m parser\n",
      "File \u001b[1;32m~\\anaconda3\\envs\\ml_100\\lib\\site-packages\\pandas\\io\\parsers\\readers.py:1407\u001b[0m, in \u001b[0;36mTextFileReader.__init__\u001b[1;34m(self, f, engine, **kwds)\u001b[0m\n\u001b[0;32m   1404\u001b[0m     \u001b[38;5;28mself\u001b[39m\u001b[38;5;241m.\u001b[39moptions[\u001b[38;5;124m\"\u001b[39m\u001b[38;5;124mhas_index_names\u001b[39m\u001b[38;5;124m\"\u001b[39m] \u001b[38;5;241m=\u001b[39m kwds[\u001b[38;5;124m\"\u001b[39m\u001b[38;5;124mhas_index_names\u001b[39m\u001b[38;5;124m\"\u001b[39m]\n\u001b[0;32m   1406\u001b[0m \u001b[38;5;28mself\u001b[39m\u001b[38;5;241m.\u001b[39mhandles: IOHandles \u001b[38;5;241m|\u001b[39m \u001b[38;5;28;01mNone\u001b[39;00m \u001b[38;5;241m=\u001b[39m \u001b[38;5;28;01mNone\u001b[39;00m\n\u001b[1;32m-> 1407\u001b[0m \u001b[38;5;28mself\u001b[39m\u001b[38;5;241m.\u001b[39m_engine \u001b[38;5;241m=\u001b[39m \u001b[38;5;28;43mself\u001b[39;49m\u001b[38;5;241;43m.\u001b[39;49m\u001b[43m_make_engine\u001b[49m\u001b[43m(\u001b[49m\u001b[43mf\u001b[49m\u001b[43m,\u001b[49m\u001b[43m \u001b[49m\u001b[38;5;28;43mself\u001b[39;49m\u001b[38;5;241;43m.\u001b[39;49m\u001b[43mengine\u001b[49m\u001b[43m)\u001b[49m\n",
      "File \u001b[1;32m~\\anaconda3\\envs\\ml_100\\lib\\site-packages\\pandas\\io\\parsers\\readers.py:1661\u001b[0m, in \u001b[0;36mTextFileReader._make_engine\u001b[1;34m(self, f, engine)\u001b[0m\n\u001b[0;32m   1659\u001b[0m     \u001b[38;5;28;01mif\u001b[39;00m \u001b[38;5;124m\"\u001b[39m\u001b[38;5;124mb\u001b[39m\u001b[38;5;124m\"\u001b[39m \u001b[38;5;129;01mnot\u001b[39;00m \u001b[38;5;129;01min\u001b[39;00m mode:\n\u001b[0;32m   1660\u001b[0m         mode \u001b[38;5;241m+\u001b[39m\u001b[38;5;241m=\u001b[39m \u001b[38;5;124m\"\u001b[39m\u001b[38;5;124mb\u001b[39m\u001b[38;5;124m\"\u001b[39m\n\u001b[1;32m-> 1661\u001b[0m \u001b[38;5;28mself\u001b[39m\u001b[38;5;241m.\u001b[39mhandles \u001b[38;5;241m=\u001b[39m \u001b[43mget_handle\u001b[49m\u001b[43m(\u001b[49m\n\u001b[0;32m   1662\u001b[0m \u001b[43m    \u001b[49m\u001b[43mf\u001b[49m\u001b[43m,\u001b[49m\n\u001b[0;32m   1663\u001b[0m \u001b[43m    \u001b[49m\u001b[43mmode\u001b[49m\u001b[43m,\u001b[49m\n\u001b[0;32m   1664\u001b[0m \u001b[43m    \u001b[49m\u001b[43mencoding\u001b[49m\u001b[38;5;241;43m=\u001b[39;49m\u001b[38;5;28;43mself\u001b[39;49m\u001b[38;5;241;43m.\u001b[39;49m\u001b[43moptions\u001b[49m\u001b[38;5;241;43m.\u001b[39;49m\u001b[43mget\u001b[49m\u001b[43m(\u001b[49m\u001b[38;5;124;43m\"\u001b[39;49m\u001b[38;5;124;43mencoding\u001b[39;49m\u001b[38;5;124;43m\"\u001b[39;49m\u001b[43m,\u001b[49m\u001b[43m \u001b[49m\u001b[38;5;28;43;01mNone\u001b[39;49;00m\u001b[43m)\u001b[49m\u001b[43m,\u001b[49m\n\u001b[0;32m   1665\u001b[0m \u001b[43m    \u001b[49m\u001b[43mcompression\u001b[49m\u001b[38;5;241;43m=\u001b[39;49m\u001b[38;5;28;43mself\u001b[39;49m\u001b[38;5;241;43m.\u001b[39;49m\u001b[43moptions\u001b[49m\u001b[38;5;241;43m.\u001b[39;49m\u001b[43mget\u001b[49m\u001b[43m(\u001b[49m\u001b[38;5;124;43m\"\u001b[39;49m\u001b[38;5;124;43mcompression\u001b[39;49m\u001b[38;5;124;43m\"\u001b[39;49m\u001b[43m,\u001b[49m\u001b[43m \u001b[49m\u001b[38;5;28;43;01mNone\u001b[39;49;00m\u001b[43m)\u001b[49m\u001b[43m,\u001b[49m\n\u001b[0;32m   1666\u001b[0m \u001b[43m    \u001b[49m\u001b[43mmemory_map\u001b[49m\u001b[38;5;241;43m=\u001b[39;49m\u001b[38;5;28;43mself\u001b[39;49m\u001b[38;5;241;43m.\u001b[39;49m\u001b[43moptions\u001b[49m\u001b[38;5;241;43m.\u001b[39;49m\u001b[43mget\u001b[49m\u001b[43m(\u001b[49m\u001b[38;5;124;43m\"\u001b[39;49m\u001b[38;5;124;43mmemory_map\u001b[39;49m\u001b[38;5;124;43m\"\u001b[39;49m\u001b[43m,\u001b[49m\u001b[43m \u001b[49m\u001b[38;5;28;43;01mFalse\u001b[39;49;00m\u001b[43m)\u001b[49m\u001b[43m,\u001b[49m\n\u001b[0;32m   1667\u001b[0m \u001b[43m    \u001b[49m\u001b[43mis_text\u001b[49m\u001b[38;5;241;43m=\u001b[39;49m\u001b[43mis_text\u001b[49m\u001b[43m,\u001b[49m\n\u001b[0;32m   1668\u001b[0m \u001b[43m    \u001b[49m\u001b[43merrors\u001b[49m\u001b[38;5;241;43m=\u001b[39;49m\u001b[38;5;28;43mself\u001b[39;49m\u001b[38;5;241;43m.\u001b[39;49m\u001b[43moptions\u001b[49m\u001b[38;5;241;43m.\u001b[39;49m\u001b[43mget\u001b[49m\u001b[43m(\u001b[49m\u001b[38;5;124;43m\"\u001b[39;49m\u001b[38;5;124;43mencoding_errors\u001b[39;49m\u001b[38;5;124;43m\"\u001b[39;49m\u001b[43m,\u001b[49m\u001b[43m \u001b[49m\u001b[38;5;124;43m\"\u001b[39;49m\u001b[38;5;124;43mstrict\u001b[39;49m\u001b[38;5;124;43m\"\u001b[39;49m\u001b[43m)\u001b[49m\u001b[43m,\u001b[49m\n\u001b[0;32m   1669\u001b[0m \u001b[43m    \u001b[49m\u001b[43mstorage_options\u001b[49m\u001b[38;5;241;43m=\u001b[39;49m\u001b[38;5;28;43mself\u001b[39;49m\u001b[38;5;241;43m.\u001b[39;49m\u001b[43moptions\u001b[49m\u001b[38;5;241;43m.\u001b[39;49m\u001b[43mget\u001b[49m\u001b[43m(\u001b[49m\u001b[38;5;124;43m\"\u001b[39;49m\u001b[38;5;124;43mstorage_options\u001b[39;49m\u001b[38;5;124;43m\"\u001b[39;49m\u001b[43m,\u001b[49m\u001b[43m \u001b[49m\u001b[38;5;28;43;01mNone\u001b[39;49;00m\u001b[43m)\u001b[49m\u001b[43m,\u001b[49m\n\u001b[0;32m   1670\u001b[0m \u001b[43m\u001b[49m\u001b[43m)\u001b[49m\n\u001b[0;32m   1671\u001b[0m \u001b[38;5;28;01massert\u001b[39;00m \u001b[38;5;28mself\u001b[39m\u001b[38;5;241m.\u001b[39mhandles \u001b[38;5;129;01mis\u001b[39;00m \u001b[38;5;129;01mnot\u001b[39;00m \u001b[38;5;28;01mNone\u001b[39;00m\n\u001b[0;32m   1672\u001b[0m f \u001b[38;5;241m=\u001b[39m \u001b[38;5;28mself\u001b[39m\u001b[38;5;241m.\u001b[39mhandles\u001b[38;5;241m.\u001b[39mhandle\n",
      "File \u001b[1;32m~\\anaconda3\\envs\\ml_100\\lib\\site-packages\\pandas\\io\\common.py:859\u001b[0m, in \u001b[0;36mget_handle\u001b[1;34m(path_or_buf, mode, encoding, compression, memory_map, is_text, errors, storage_options)\u001b[0m\n\u001b[0;32m    854\u001b[0m \u001b[38;5;28;01melif\u001b[39;00m \u001b[38;5;28misinstance\u001b[39m(handle, \u001b[38;5;28mstr\u001b[39m):\n\u001b[0;32m    855\u001b[0m     \u001b[38;5;66;03m# Check whether the filename is to be opened in binary mode.\u001b[39;00m\n\u001b[0;32m    856\u001b[0m     \u001b[38;5;66;03m# Binary mode does not support 'encoding' and 'newline'.\u001b[39;00m\n\u001b[0;32m    857\u001b[0m     \u001b[38;5;28;01mif\u001b[39;00m ioargs\u001b[38;5;241m.\u001b[39mencoding \u001b[38;5;129;01mand\u001b[39;00m \u001b[38;5;124m\"\u001b[39m\u001b[38;5;124mb\u001b[39m\u001b[38;5;124m\"\u001b[39m \u001b[38;5;129;01mnot\u001b[39;00m \u001b[38;5;129;01min\u001b[39;00m ioargs\u001b[38;5;241m.\u001b[39mmode:\n\u001b[0;32m    858\u001b[0m         \u001b[38;5;66;03m# Encoding\u001b[39;00m\n\u001b[1;32m--> 859\u001b[0m         handle \u001b[38;5;241m=\u001b[39m \u001b[38;5;28;43mopen\u001b[39;49m\u001b[43m(\u001b[49m\n\u001b[0;32m    860\u001b[0m \u001b[43m            \u001b[49m\u001b[43mhandle\u001b[49m\u001b[43m,\u001b[49m\n\u001b[0;32m    861\u001b[0m \u001b[43m            \u001b[49m\u001b[43mioargs\u001b[49m\u001b[38;5;241;43m.\u001b[39;49m\u001b[43mmode\u001b[49m\u001b[43m,\u001b[49m\n\u001b[0;32m    862\u001b[0m \u001b[43m            \u001b[49m\u001b[43mencoding\u001b[49m\u001b[38;5;241;43m=\u001b[39;49m\u001b[43mioargs\u001b[49m\u001b[38;5;241;43m.\u001b[39;49m\u001b[43mencoding\u001b[49m\u001b[43m,\u001b[49m\n\u001b[0;32m    863\u001b[0m \u001b[43m            \u001b[49m\u001b[43merrors\u001b[49m\u001b[38;5;241;43m=\u001b[39;49m\u001b[43merrors\u001b[49m\u001b[43m,\u001b[49m\n\u001b[0;32m    864\u001b[0m \u001b[43m            \u001b[49m\u001b[43mnewline\u001b[49m\u001b[38;5;241;43m=\u001b[39;49m\u001b[38;5;124;43m\"\u001b[39;49m\u001b[38;5;124;43m\"\u001b[39;49m\u001b[43m,\u001b[49m\n\u001b[0;32m    865\u001b[0m \u001b[43m        \u001b[49m\u001b[43m)\u001b[49m\n\u001b[0;32m    866\u001b[0m     \u001b[38;5;28;01melse\u001b[39;00m:\n\u001b[0;32m    867\u001b[0m         \u001b[38;5;66;03m# Binary mode\u001b[39;00m\n\u001b[0;32m    868\u001b[0m         handle \u001b[38;5;241m=\u001b[39m \u001b[38;5;28mopen\u001b[39m(handle, ioargs\u001b[38;5;241m.\u001b[39mmode)\n",
      "\u001b[1;31mFileNotFoundError\u001b[0m: [Errno 2] No such file or directory: 'datasets/aug_train.csv'"
     ]
    }
   ],
   "source": [
    "df = pd.read_csv(\"datasets/aug_train.csv\")\n",
    "df.head()"
   ]
  },
  {
   "cell_type": "markdown",
   "id": "89923671-b99b-4471-8ddf-cb0e953bc34c",
   "metadata": {},
   "source": [
    "# 3. Opening a csv file from an URL"
   ]
  },
  {
   "cell_type": "code",
   "execution_count": null,
   "id": "bdec55ea-cf88-4ff3-b92d-b6030133d765",
   "metadata": {},
   "outputs": [],
   "source": [
    "import requests\n",
    "from io import StringIO  \n",
    "url = \"https://raw.githubusercontent.com/umpirsky/country-list/refs/heads/master/data/en_US/country.csv\"\n",
    "headers = {\"User-Agent\" : \"Mozilla/5.0 (Windows NT 10.0; Win64; x64; rv:133.0) Gecko/20100101 Firefox/133.0\"}\n",
    "req = requests.get(url, headers = headers)\n",
    "data = StringIO(req.text)\n",
    "df = pd.read_csv(data)"
   ]
  },
  {
   "cell_type": "code",
   "execution_count": null,
   "id": "1a394057-5784-4e16-beb4-00eb5f15c137",
   "metadata": {},
   "outputs": [],
   "source": [
    "df.head()"
   ]
  },
  {
   "cell_type": "markdown",
   "id": "790f16a4-156e-4349-8aa9-4ab33ae30716",
   "metadata": {},
   "source": [
    "# 4. Sep Parameter"
   ]
  },
  {
   "cell_type": "code",
   "execution_count": null,
   "id": "7fe79101-0ea6-4436-acc1-f2f7863a4dff",
   "metadata": {},
   "outputs": [],
   "source": [
    "df = pd.read_csv(\"datasets/movie_titles_metadata.tsv\")"
   ]
  },
  {
   "cell_type": "code",
   "execution_count": null,
   "id": "7a85d43f-9d3d-4882-a282-7106caf67155",
   "metadata": {},
   "outputs": [],
   "source": [
    "df.head()"
   ]
  },
  {
   "cell_type": "code",
   "execution_count": null,
   "id": "89c5eb74-a25d-4f42-a756-fa3dae289ee2",
   "metadata": {},
   "outputs": [],
   "source": [
    "df = pd.read_csv(\"datasets/movie_titles_metadata.tsv\", sep = \"\\t\", names = [\"sno\", \"name\", \"release_year\", \"rating\", \"votes\", \"genres\"])"
   ]
  },
  {
   "cell_type": "code",
   "execution_count": null,
   "id": "d00ca86f-b8d3-41f0-a167-3aceba5b800f",
   "metadata": {},
   "outputs": [],
   "source": [
    "df.head()"
   ]
  },
  {
   "cell_type": "markdown",
   "id": "5608a554-9cee-42b2-988d-7a8129872f77",
   "metadata": {},
   "source": [
    "# 5. Index_col parameter"
   ]
  },
  {
   "cell_type": "code",
   "execution_count": null,
   "id": "ff6373be-b4a7-4b29-84e1-b352996f03d0",
   "metadata": {},
   "outputs": [],
   "source": [
    "pd.read_csv(\"datasets/aug_train.csv\").head()"
   ]
  },
  {
   "cell_type": "code",
   "execution_count": null,
   "id": "21ce6fd5-a793-4940-99eb-d29ae599d240",
   "metadata": {},
   "outputs": [],
   "source": [
    "pd.read_csv(\"datasets/aug_train.csv\", index_col = \"enrollee_id\").head()"
   ]
  },
  {
   "cell_type": "markdown",
   "id": "22b44654-708d-45ca-b278-1e4b65263f00",
   "metadata": {},
   "source": [
    "# 6. Header parameter"
   ]
  },
  {
   "cell_type": "code",
   "execution_count": null,
   "id": "2ad6d07c-6a07-4315-94db-26ed0c0e81f0",
   "metadata": {},
   "outputs": [],
   "source": [
    "pd.read_csv(\"datasets/test.csv\").head()"
   ]
  },
  {
   "cell_type": "code",
   "execution_count": null,
   "id": "c60e4bdc-f3ec-4e87-8a0b-f099c1e55bbc",
   "metadata": {},
   "outputs": [],
   "source": [
    "pd.read_csv(\"datasets/test.csv\", header=1).head()"
   ]
  },
  {
   "cell_type": "markdown",
   "id": "49d8dba8-0dd1-456e-b01e-2c1c8510420e",
   "metadata": {},
   "source": [
    "# 7. Use_cols parameter"
   ]
  },
  {
   "cell_type": "code",
   "execution_count": null,
   "id": "1e3213b6-52c2-4f8c-a4bf-6c7433db4ab8",
   "metadata": {},
   "outputs": [],
   "source": [
    "pd.read_csv(\"datasets/aug_train.csv\").head()"
   ]
  },
  {
   "cell_type": "code",
   "execution_count": null,
   "id": "cc3d3bb2-b07b-4ffd-b3ff-6b928138df9a",
   "metadata": {},
   "outputs": [],
   "source": [
    "pd.read_csv(\"datasets/aug_train.csv\", usecols = [\"enrollee_id\", \"gender\", \"education_level\"]).head()"
   ]
  },
  {
   "cell_type": "markdown",
   "id": "d2078e33-0e2a-4210-8fb5-5afc9d303848",
   "metadata": {},
   "source": [
    "# 8. Squeeze parameters"
   ]
  },
  {
   "cell_type": "code",
   "execution_count": null,
   "id": "2f3acfb8-7525-423e-9492-0a8c0a3f9a5d",
   "metadata": {},
   "outputs": [],
   "source": [
    "data = pd.read_csv(\"datasets/aug_train.csv\", usecols=[\"gender\"])\n",
    "data.squeeze()"
   ]
  },
  {
   "cell_type": "markdown",
   "id": "b52297a4-31f2-4dc0-b4d4-0e0a57104057",
   "metadata": {},
   "source": [
    "# 9. Skiprows/nows Parameter"
   ]
  },
  {
   "cell_type": "code",
   "execution_count": null,
   "id": "9c6ca093-40c0-48a0-bf74-287d10fbd806",
   "metadata": {},
   "outputs": [],
   "source": [
    "pd.read_csv(\"datasets/aug_train.csv\")"
   ]
  },
  {
   "cell_type": "code",
   "execution_count": null,
   "id": "d4ce58a0-d02b-43a5-bb91-4e8082e3e0b8",
   "metadata": {},
   "outputs": [],
   "source": [
    "pd.read_csv(\"datasets/aug_train.csv\", skiprows=[1,2])"
   ]
  },
  {
   "cell_type": "code",
   "execution_count": null,
   "id": "35ae8b7f-4076-4bee-ad44-d03b2bda933c",
   "metadata": {},
   "outputs": [],
   "source": [
    "pd.read_csv(\"datasets/aug_train.csv\", nrows = 100)"
   ]
  },
  {
   "cell_type": "markdown",
   "id": "45aa50f2-c9a7-4599-9e31-f39c44b284ce",
   "metadata": {},
   "source": [
    "# 10. Encoding Parameter"
   ]
  },
  {
   "cell_type": "code",
   "execution_count": null,
   "id": "cc1a5d5c-9472-4bc9-a6e4-986b5a936c8e",
   "metadata": {},
   "outputs": [],
   "source": [
    "# pd.read_csv(\"zomato.csv\")"
   ]
  },
  {
   "cell_type": "code",
   "execution_count": null,
   "id": "ef2735e8-04c1-4a2f-8c1b-65b5a875f479",
   "metadata": {},
   "outputs": [],
   "source": [
    "pd.read_csv(\"datasets/zomato.csv\", encoding=\"latin-1\")"
   ]
  },
  {
   "cell_type": "markdown",
   "id": "e038bbfc-4b14-427e-8a95-0557858e188d",
   "metadata": {},
   "source": [
    "# 11. Skip bad lines"
   ]
  },
  {
   "cell_type": "code",
   "execution_count": null,
   "id": "a1714fdc-aa5c-4248-a87d-63b98726a6a3",
   "metadata": {},
   "outputs": [],
   "source": [
    "# pd.read_csv(\"FILE_NAME.csv\", error_bad_lines=\"False\")"
   ]
  },
  {
   "cell_type": "markdown",
   "id": "ef1751ac-c84c-49de-bb91-ea214149e2b8",
   "metadata": {},
   "source": [
    "# 12. dtypes parameter"
   ]
  },
  {
   "cell_type": "code",
   "execution_count": null,
   "id": "68503a62-4c5e-4ef3-9802-432dfab11090",
   "metadata": {},
   "outputs": [],
   "source": [
    "df = pd.read_csv(\"datasets/aug_train.csv\")"
   ]
  },
  {
   "cell_type": "code",
   "execution_count": null,
   "id": "f0f115aa-0c35-4d2c-8305-91dfbc734382",
   "metadata": {},
   "outputs": [],
   "source": [
    "df.head()"
   ]
  },
  {
   "cell_type": "code",
   "execution_count": null,
   "id": "e5bb7feb-1f1b-4b6a-af4f-06a533edbba0",
   "metadata": {},
   "outputs": [],
   "source": [
    "df.info()"
   ]
  },
  {
   "cell_type": "code",
   "execution_count": null,
   "id": "329cea75-babe-4bc8-8544-03108320bc3c",
   "metadata": {},
   "outputs": [],
   "source": [
    "# Convert data types of target column float to int\n",
    "df = pd.read_csv(\"datasets/aug_train.csv\", dtype={\"target\":int})"
   ]
  },
  {
   "cell_type": "code",
   "execution_count": null,
   "id": "e3889531-b747-48e5-968a-9407ede74030",
   "metadata": {},
   "outputs": [],
   "source": [
    "df.head()"
   ]
  },
  {
   "cell_type": "code",
   "execution_count": null,
   "id": "d8975844-79d2-4a06-9a16-297f88387325",
   "metadata": {},
   "outputs": [],
   "source": [
    "df.info()"
   ]
  },
  {
   "cell_type": "markdown",
   "id": "1ae4cbb2-76b2-4e66-8c7c-56a87c9ec6ea",
   "metadata": {},
   "source": [
    "# 13. Handling Dates"
   ]
  },
  {
   "cell_type": "code",
   "execution_count": null,
   "id": "0de52313-ff46-40d0-9600-aefa5d1ab9d4",
   "metadata": {},
   "outputs": [],
   "source": [
    "df = pd.read_csv(\"datasets/IPL Matches 2008-2020.csv\")"
   ]
  },
  {
   "cell_type": "code",
   "execution_count": null,
   "id": "9f30706a-293f-438e-8bde-91faff3d6d28",
   "metadata": {},
   "outputs": [],
   "source": [
    "df.info()"
   ]
  },
  {
   "cell_type": "code",
   "execution_count": null,
   "id": "7a499f2d-b4ce-41b5-9f6f-5053b2d58fa8",
   "metadata": {},
   "outputs": [],
   "source": [
    "# convert dtype of date column object to datetime\n",
    "df = pd.read_csv(\"datasets/IPL Matches 2008-2020.csv\", parse_dates=[\"date\"])"
   ]
  },
  {
   "cell_type": "code",
   "execution_count": null,
   "id": "873e2d68-4520-4a95-805b-a46313434102",
   "metadata": {},
   "outputs": [],
   "source": [
    "df.head()"
   ]
  },
  {
   "cell_type": "code",
   "execution_count": null,
   "id": "5c72d42a-2164-470a-b94a-68fb4d94aeee",
   "metadata": {},
   "outputs": [],
   "source": [
    "df.info()"
   ]
  },
  {
   "cell_type": "markdown",
   "id": "9a3b1a09-7d37-4d13-a9c9-18e04bd8b6f0",
   "metadata": {},
   "source": [
    "# 14. Convertors"
   ]
  },
  {
   "cell_type": "code",
   "execution_count": null,
   "id": "a6497081-46b2-42eb-bc1f-28afdb1f3427",
   "metadata": {},
   "outputs": [],
   "source": [
    "pd.read_csv(\"datasets/IPL Matches 2008-2020.csv\").head()"
   ]
  },
  {
   "cell_type": "code",
   "execution_count": null,
   "id": "6ce45f2a-258a-40ab-9798-6e6caf7f8bbb",
   "metadata": {},
   "outputs": [],
   "source": [
    "# def rename(name):\n",
    "#     if name == \"Royal Challengers Bangalore\":\n",
    "#         return \"RCB\"\n",
    "#     else:\n",
    "#         return name"
   ]
  },
  {
   "cell_type": "code",
   "execution_count": null,
   "id": "a3cb3246-c37a-46e0-ac88-a7fd70ff1645",
   "metadata": {},
   "outputs": [],
   "source": [
    "def rename(name):\n",
    "    team_mappings = {\n",
    "        \"Royal Challengers Bangalore\": \"RCB\",\n",
    "        \"Mumbai Indians\": \"MI\",\n",
    "        \"Chennai Super Kings\": \"CSK\",\n",
    "        \"Kolkata Knight Riders\": \"KKR\",\n",
    "        \"Delhi Capitals\": \"DC\",\n",
    "        \"Sunrisers Hyderabad\": \"SRH\",\n",
    "        \"Rajasthan Royals\": \"RR\",\n",
    "        \"Kings XI Punjab\": \"KXIP\",\n",
    "        \"Gujarat Lions\": \"GL\",\n",
    "        \"Pune Warriors\": \"PW\",\n",
    "        \"Deccan Chargers\": \"DCG\",\n",
    "        \"Delhi Daredevils\" : \"DD\"\n",
    "    }\n",
    "    return team_mappings.get(name, name)\n"
   ]
  },
  {
   "cell_type": "code",
   "execution_count": null,
   "id": "5b5baf01-5994-4b59-b53c-fb0862cc6bdb",
   "metadata": {},
   "outputs": [],
   "source": []
  },
  {
   "cell_type": "code",
   "execution_count": null,
   "id": "b38805b0-7e16-48cd-9e47-46876fac7122",
   "metadata": {},
   "outputs": [],
   "source": [
    "rename(\"Mumbai Indians\")"
   ]
  },
  {
   "cell_type": "code",
   "execution_count": null,
   "id": "ccc04dc2-002a-4e89-ad6c-a2b9576048a2",
   "metadata": {},
   "outputs": [],
   "source": [
    "pd.read_csv(\"datasets/IPL Matches 2008-2020.csv\", converters={\"team1\":rename, \"team2\": rename, \"toss_winner\": rename, \"winner\": rename}).head()"
   ]
  },
  {
   "cell_type": "markdown",
   "id": "5b8a1d75-0556-4720-8e91-905f5e1b44d5",
   "metadata": {},
   "source": [
    "# 15. na_values parameter"
   ]
  },
  {
   "cell_type": "code",
   "execution_count": null,
   "id": "4716a969-5206-4c7e-bc45-938808c8d5e1",
   "metadata": {},
   "outputs": [],
   "source": [
    "pd.read_csv(\"datasets/aug_train.csv\")"
   ]
  },
  {
   "cell_type": "code",
   "execution_count": null,
   "id": "50a5c723-c8c7-4bff-9480-7a3cbc8b8f98",
   "metadata": {},
   "outputs": [],
   "source": [
    "# Now convert Male to NaN for testing purpose, But you do it for other values like -, _ etc. \n",
    "pd.read_csv(\"datasets/aug_train.csv\", na_values=[\"Male\"])"
   ]
  },
  {
   "cell_type": "code",
   "execution_count": null,
   "id": "491b48df-5edd-405f-8e3f-06f9dbcd10dc",
   "metadata": {},
   "outputs": [],
   "source": []
  },
  {
   "cell_type": "markdown",
   "id": "b6113923-7c3d-4ca7-be65-9760d70999cb",
   "metadata": {},
   "source": [
    "# 16. Loading a huge dataset in chunks"
   ]
  },
  {
   "cell_type": "code",
   "execution_count": null,
   "id": "0c1972d4-5e2a-4c13-90f4-a49a77ed1736",
   "metadata": {},
   "outputs": [],
   "source": [
    "pd.read_csv(\"datasets/aug_train.csv\")"
   ]
  },
  {
   "cell_type": "code",
   "execution_count": null,
   "id": "185e4700-1d02-4a0b-8c76-26606bda996e",
   "metadata": {},
   "outputs": [],
   "source": [
    "# Make a chunk\n",
    "dfs = pd.read_csv(\"datasets/aug_train.csv\", chunksize=5000)"
   ]
  },
  {
   "cell_type": "code",
   "execution_count": null,
   "id": "bed4534a-ef55-4a03-a331-b3269e5fb378",
   "metadata": {},
   "outputs": [],
   "source": [
    "for chunk in dfs:\n",
    "    print(chunk.shape)"
   ]
  },
  {
   "cell_type": "code",
   "execution_count": null,
   "id": "6ad00657-3a0b-4ef3-a724-fb0a9d8411ca",
   "metadata": {},
   "outputs": [],
   "source": []
  },
  {
   "cell_type": "code",
   "execution_count": null,
   "id": "6ecb4918-0377-46ec-bf71-89375f28c533",
   "metadata": {},
   "outputs": [],
   "source": []
  },
  {
   "cell_type": "code",
   "execution_count": null,
   "id": "912423f0-3b00-486a-aae4-9409c6f170c1",
   "metadata": {},
   "outputs": [],
   "source": []
  },
  {
   "cell_type": "code",
   "execution_count": null,
   "id": "b79baf1a-00f8-4632-b777-810ea4e6b0ba",
   "metadata": {},
   "outputs": [],
   "source": []
  },
  {
   "cell_type": "code",
   "execution_count": null,
   "id": "7f2b1b25-df5a-4879-92c8-d6d40ab19b1f",
   "metadata": {},
   "outputs": [],
   "source": []
  }
 ],
 "metadata": {
  "kernelspec": {
   "display_name": "Python 3 (ipykernel)",
   "language": "python",
   "name": "python3"
  },
  "language_info": {
   "codemirror_mode": {
    "name": "ipython",
    "version": 3
   },
   "file_extension": ".py",
   "mimetype": "text/x-python",
   "name": "python",
   "nbconvert_exporter": "python",
   "pygments_lexer": "ipython3",
   "version": "3.8.20"
  }
 },
 "nbformat": 4,
 "nbformat_minor": 5
}
