{
 "cells": [
  {
   "cell_type": "code",
   "execution_count": null,
   "id": "81e39223-7293-47b1-bb0b-b61ce913c92a",
   "metadata": {},
   "outputs": [],
   "source": []
  }
 ],
 "metadata": {
  "kernelspec": {
   "display_name": "",
   "name": ""
  },
  "language_info": {
   "name": ""
  }
 },
 "nbformat": 4,
 "nbformat_minor": 5
}
